{
  "nbformat": 4,
  "nbformat_minor": 0,
  "metadata": {
    "colab": {
      "name": "Activity 1 - Python Fundamentals",
      "provenance": [],
      "collapsed_sections": [],
      "include_colab_link": true
    },
    "kernelspec": {
      "name": "python3",
      "display_name": "Python 3"
    },
    "language_info": {
      "name": "python"
    }
  },
  "cells": [
    {
      "cell_type": "markdown",
      "metadata": {
        "id": "view-in-github",
        "colab_type": "text"
      },
      "source": [
        "<a href=\"https://colab.research.google.com/github/fionaliz/Linear_Algebra_ChE_2nd-Sem-2021-2022/blob/main/Activity_1_Python_Fundamentals.ipynb\" target=\"_parent\"><img src=\"https://colab.research.google.com/assets/colab-badge.svg\" alt=\"Open In Colab\"/></a>"
      ]
    },
    {
      "cell_type": "markdown",
      "source": [
        "## Welcome to Phyton Fundamentals \n",
        "In this module. we are going to establich or review our skills in Phython programming. In this notebook we are going to cover:\n",
        "* Variables and Data Types \n",
        "* Operations\n",
        "* Input and Output Operations\n",
        "* Logic Control \n",
        "* Iterables \n",
        "* Functions \n"
      ],
      "metadata": {
        "id": "gnDjHJBA_iYg"
      }
    },
    {
      "cell_type": "markdown",
      "source": [
        "#  Variable Data Types\n",
        "\n",
        "\n"
      ],
      "metadata": {
        "id": "51J63NmyAJdP"
      }
    },
    {
      "cell_type": "code",
      "source": [
        "f = 6\n",
        "e, y = 0, -1\n",
        "y"
      ],
      "metadata": {
        "id": "1pDxIo82AU-s"
      },
      "execution_count": null,
      "outputs": []
    },
    {
      "cell_type": "code",
      "source": [
        "type (f)"
      ],
      "metadata": {
        "id": "CD11eLWfA9tH"
      },
      "execution_count": null,
      "outputs": []
    },
    {
      "cell_type": "code",
      "source": [
        "z = 1.0\n",
        "type(z)"
      ],
      "metadata": {
        "id": "mpkAlUUvBj6k"
      },
      "execution_count": null,
      "outputs": []
    },
    {
      "cell_type": "code",
      "source": [
        "z = float (z) \n",
        "type (z)"
      ],
      "metadata": {
        "id": "NQ8Yu7mLBtnP"
      },
      "execution_count": null,
      "outputs": []
    },
    {
      "cell_type": "code",
      "source": [
        "s, t, u = \"0\" , '17' , 'seventeen'\n",
        "type(s)"
      ],
      "metadata": {
        "id": "LHm49GTFCjSb"
      },
      "execution_count": null,
      "outputs": []
    },
    {
      "cell_type": "code",
      "source": [
        "s_int = int(s)\n",
        "s_int "
      ],
      "metadata": {
        "id": "6T0JKmB5GMfW"
      },
      "execution_count": null,
      "outputs": []
    },
    {
      "cell_type": "markdown",
      "source": [
        "# Operations\n"
      ],
      "metadata": {
        "id": "gzdh9DKhGsFI"
      }
    },
    {
      "cell_type": "markdown",
      "source": [
        "# Arithmetic\n"
      ],
      "metadata": {
        "id": "gB3KC-yaGveA"
      }
    },
    {
      "cell_type": "code",
      "source": [
        "a,b,c,d = 4.6, -0.2, 17, -13"
      ],
      "metadata": {
        "id": "YkPsXWtiHP77"
      },
      "execution_count": null,
      "outputs": []
    },
    {
      "cell_type": "code",
      "source": [
        "### Adtition \n",
        "S = a+b \n",
        "S"
      ],
      "metadata": {
        "colab": {
          "base_uri": "https://localhost:8080/"
        },
        "id": "OsbKr4mEHet0",
        "outputId": "bc77d31f-d927-48ac-aab7-5a7f42453a48"
      },
      "execution_count": null,
      "outputs": [
        {
          "output_type": "execute_result",
          "data": {
            "text/plain": [
              "4.3999999999999995"
            ]
          },
          "metadata": {},
          "execution_count": 82
        }
      ]
    },
    {
      "cell_type": "code",
      "source": [
        "### Subtraction \n",
        "D = b-d \n",
        "D"
      ],
      "metadata": {
        "colab": {
          "base_uri": "https://localhost:8080/"
        },
        "id": "Or5xzP8gHp6W",
        "outputId": "79a7bb95-0686-4eb7-ae3b-79c8f0074355"
      },
      "execution_count": null,
      "outputs": [
        {
          "output_type": "execute_result",
          "data": {
            "text/plain": [
              "12.8"
            ]
          },
          "metadata": {},
          "execution_count": 83
        }
      ]
    },
    {
      "cell_type": "code",
      "source": [
        "### Multiplication \n",
        "P = a*d \n",
        "P"
      ],
      "metadata": {
        "colab": {
          "base_uri": "https://localhost:8080/"
        },
        "id": "acwYZrGwHxJr",
        "outputId": "701b6959-5d88-4a33-e2ae-4b5d8f682b15"
      },
      "execution_count": null,
      "outputs": [
        {
          "output_type": "execute_result",
          "data": {
            "text/plain": [
              "-59.8"
            ]
          },
          "metadata": {},
          "execution_count": 84
        }
      ]
    },
    {
      "cell_type": "code",
      "source": [
        "### Floor Division \n",
        "Fq = a/b \n",
        "Fq "
      ],
      "metadata": {
        "colab": {
          "base_uri": "https://localhost:8080/"
        },
        "id": "3WQb-zz8H7TU",
        "outputId": "c4e81c0d-e423-4fc4-ae3b-b6d50c17d403"
      },
      "execution_count": null,
      "outputs": [
        {
          "output_type": "execute_result",
          "data": {
            "text/plain": [
              "-22.999999999999996"
            ]
          },
          "metadata": {},
          "execution_count": 85
        }
      ]
    },
    {
      "cell_type": "code",
      "source": [
        "### Exponentiation \n",
        "E = a**b \n",
        "E"
      ],
      "metadata": {
        "colab": {
          "base_uri": "https://localhost:8080/"
        },
        "id": "EHm6LjwEIBmE",
        "outputId": "51faad1f-647a-4f38-e8c2-c8fca7cd007b"
      },
      "execution_count": null,
      "outputs": [
        {
          "output_type": "execute_result",
          "data": {
            "text/plain": [
              "0.7369676656404461"
            ]
          },
          "metadata": {},
          "execution_count": 86
        }
      ]
    },
    {
      "cell_type": "code",
      "source": [
        "### Modulo \n",
        "mod = d%a \n",
        "mod"
      ],
      "metadata": {
        "colab": {
          "base_uri": "https://localhost:8080/"
        },
        "id": "NJknHaXMIHU0",
        "outputId": "b43ea578-7cbf-4d33-c72c-c02b73d98c1d"
      },
      "execution_count": null,
      "outputs": [
        {
          "output_type": "execute_result",
          "data": {
            "text/plain": [
              "0.7999999999999989"
            ]
          },
          "metadata": {},
          "execution_count": 87
        }
      ]
    },
    {
      "cell_type": "markdown",
      "source": [
        "# Assignment Operations \n"
      ],
      "metadata": {
        "id": "gyRS0UmLJDHo"
      }
    },
    {
      "cell_type": "code",
      "source": [
        "G, H, J, K = 0, 100, 2, 3 "
      ],
      "metadata": {
        "id": "Sz1EpvdzJG26"
      },
      "execution_count": null,
      "outputs": []
    },
    {
      "cell_type": "code",
      "source": [
        "G += a \n",
        "G "
      ],
      "metadata": {
        "colab": {
          "base_uri": "https://localhost:8080/"
        },
        "id": "eZxfqsGLJrCc",
        "outputId": "4cb7546c-3328-47ff-b751-4e6c1bc150d4"
      },
      "execution_count": null,
      "outputs": [
        {
          "output_type": "execute_result",
          "data": {
            "text/plain": [
              "4.6"
            ]
          },
          "metadata": {},
          "execution_count": 89
        }
      ]
    },
    {
      "cell_type": "code",
      "source": [
        "H -= d \n",
        "H "
      ],
      "metadata": {
        "colab": {
          "base_uri": "https://localhost:8080/"
        },
        "id": "Yl8U-FMmJ9JS",
        "outputId": "9835ac15-9b0f-4ce5-aba7-c9c770abe687"
      },
      "execution_count": null,
      "outputs": [
        {
          "output_type": "execute_result",
          "data": {
            "text/plain": [
              "113"
            ]
          },
          "metadata": {},
          "execution_count": 90
        }
      ]
    },
    {
      "cell_type": "code",
      "source": [
        "J *= 2\n",
        "J"
      ],
      "metadata": {
        "colab": {
          "base_uri": "https://localhost:8080/"
        },
        "id": "w2GqF_ZmKcHW",
        "outputId": "7e81c2cc-5db4-448b-eb2f-dc9f93d995ea"
      },
      "execution_count": null,
      "outputs": [
        {
          "output_type": "execute_result",
          "data": {
            "text/plain": [
              "4"
            ]
          },
          "metadata": {},
          "execution_count": 91
        }
      ]
    },
    {
      "cell_type": "code",
      "source": [
        "K **= 3 \n",
        "K"
      ],
      "metadata": {
        "colab": {
          "base_uri": "https://localhost:8080/"
        },
        "id": "QKr9elOSLMRE",
        "outputId": "644f9b10-db69-4994-a686-4aabbe879b60"
      },
      "execution_count": null,
      "outputs": [
        {
          "output_type": "execute_result",
          "data": {
            "text/plain": [
              "27"
            ]
          },
          "metadata": {},
          "execution_count": 92
        }
      ]
    },
    {
      "cell_type": "markdown",
      "source": [
        "# Comparators"
      ],
      "metadata": {
        "id": "Z2eTN-LnLVZ6"
      }
    },
    {
      "cell_type": "code",
      "source": [
        "res_1, res_2, res_3 = 1, 2.0, \"1\" \n",
        "true_val = 1.0 \n"
      ],
      "metadata": {
        "id": "HmNG5O75LW6W"
      },
      "execution_count": null,
      "outputs": []
    },
    {
      "cell_type": "code",
      "source": [
        "## Equality \n",
        "res_1 == true_val "
      ],
      "metadata": {
        "colab": {
          "base_uri": "https://localhost:8080/"
        },
        "id": "4VFmV2H_LiJ0",
        "outputId": "212526c3-04ab-4563-e0be-73ed159894c7"
      },
      "execution_count": null,
      "outputs": [
        {
          "output_type": "execute_result",
          "data": {
            "text/plain": [
              "True"
            ]
          },
          "metadata": {},
          "execution_count": 94
        }
      ]
    },
    {
      "cell_type": "code",
      "source": [
        "## Non-Equality \n",
        "res_2 != true_val \n"
      ],
      "metadata": {
        "colab": {
          "base_uri": "https://localhost:8080/"
        },
        "id": "DkjMrtDOLrJx",
        "outputId": "5b18799c-29a7-4720-ba60-f69c11a55659"
      },
      "execution_count": null,
      "outputs": [
        {
          "output_type": "execute_result",
          "data": {
            "text/plain": [
              "True"
            ]
          },
          "metadata": {},
          "execution_count": 95
        }
      ]
    },
    {
      "cell_type": "code",
      "source": [
        "## Inequality \n",
        "t1 = res_1 > res_2 \n",
        "t2 = res_1 < res_2/2 \n",
        "t3 = res_1 >= res_2/2 \n",
        "t4 = res_1 <= res_2 \n",
        "t3"
      ],
      "metadata": {
        "colab": {
          "base_uri": "https://localhost:8080/"
        },
        "id": "8gdtoeEkLzbG",
        "outputId": "17251536-5df8-4077-aa9d-c33670e7eb5f"
      },
      "execution_count": null,
      "outputs": [
        {
          "output_type": "execute_result",
          "data": {
            "text/plain": [
              "True"
            ]
          },
          "metadata": {},
          "execution_count": 96
        }
      ]
    },
    {
      "cell_type": "markdown",
      "source": [
        "# Logical "
      ],
      "metadata": {
        "id": "Pj4RHmmlMZ1V"
      }
    },
    {
      "cell_type": "code",
      "source": [
        "res_1 == true_val"
      ],
      "metadata": {
        "id": "qFuLaMMFMbWA",
        "colab": {
          "base_uri": "https://localhost:8080/"
        },
        "outputId": "dc9ad554-b04a-4f37-df87-9e6bf8e73c8d"
      },
      "execution_count": null,
      "outputs": [
        {
          "output_type": "execute_result",
          "data": {
            "text/plain": [
              "True"
            ]
          },
          "metadata": {},
          "execution_count": 97
        }
      ]
    },
    {
      "cell_type": "code",
      "source": [
        "res_1 is true_val"
      ],
      "metadata": {
        "colab": {
          "base_uri": "https://localhost:8080/"
        },
        "id": "bJjgBKg19l9i",
        "outputId": "eef1914d-3ecb-42f1-cdb6-7d5fe8c55e4b"
      },
      "execution_count": null,
      "outputs": [
        {
          "output_type": "execute_result",
          "data": {
            "text/plain": [
              "False"
            ]
          },
          "metadata": {},
          "execution_count": 98
        }
      ]
    },
    {
      "cell_type": "code",
      "source": [
        "s, c = True, False\n",
        "conj = s and c \n",
        "conj"
      ],
      "metadata": {
        "colab": {
          "base_uri": "https://localhost:8080/"
        },
        "id": "mnIZTu3Z9osD",
        "outputId": "1bea7e2c-6061-4333-f395-4f08ec8494bd"
      },
      "execution_count": null,
      "outputs": [
        {
          "output_type": "execute_result",
          "data": {
            "text/plain": [
              "False"
            ]
          },
          "metadata": {},
          "execution_count": 99
        }
      ]
    },
    {
      "cell_type": "code",
      "source": [
        "s, c = True, False \n",
        "disj = s or c\n",
        "disj "
      ],
      "metadata": {
        "colab": {
          "base_uri": "https://localhost:8080/"
        },
        "id": "FkXn-m289xSQ",
        "outputId": "662f1b58-6fc3-4e76-d777-551370291d16"
      },
      "execution_count": null,
      "outputs": [
        {
          "output_type": "execute_result",
          "data": {
            "text/plain": [
              "True"
            ]
          },
          "metadata": {},
          "execution_count": 100
        }
      ]
    },
    {
      "cell_type": "code",
      "source": [
        "s, c = True, False \n",
        "nand = not(s and c)\n",
        "nand"
      ],
      "metadata": {
        "colab": {
          "base_uri": "https://localhost:8080/"
        },
        "id": "MK5R4ohv951N",
        "outputId": "1da55d69-7bee-4d9e-a5a7-aef55fae5d7d"
      },
      "execution_count": null,
      "outputs": [
        {
          "output_type": "execute_result",
          "data": {
            "text/plain": [
              "True"
            ]
          },
          "metadata": {},
          "execution_count": 101
        }
      ]
    },
    {
      "cell_type": "code",
      "source": [
        "s, c = True, False\n",
        "xor = (not s and c) or (s and not c)\n",
        "xor "
      ],
      "metadata": {
        "colab": {
          "base_uri": "https://localhost:8080/"
        },
        "id": "FIQzgbLE-GOo",
        "outputId": "97ca3ea6-ed28-4ec0-a9e2-e0789a981f3f"
      },
      "execution_count": null,
      "outputs": [
        {
          "output_type": "execute_result",
          "data": {
            "text/plain": [
              "True"
            ]
          },
          "metadata": {},
          "execution_count": 102
        }
      ]
    },
    {
      "cell_type": "markdown",
      "source": [
        "# I/O"
      ],
      "metadata": {
        "id": "7fKCypF9-9LP"
      }
    },
    {
      "cell_type": "code",
      "source": [
        "print(\"Oneus\")"
      ],
      "metadata": {
        "id": "E4GBYGol_Djd"
      },
      "execution_count": null,
      "outputs": []
    },
    {
      "cell_type": "code",
      "source": [
        "cnt = 1"
      ],
      "metadata": {
        "id": "xFPbcmSF_vNE"
      },
      "execution_count": null,
      "outputs": []
    },
    {
      "cell_type": "code",
      "source": [
        "string = \"Oneus\"\n",
        "print(string, \"Current run count is:\", cnt)\n",
        "cnt +=1"
      ],
      "metadata": {
        "id": "j7hio9qc_xBO"
      },
      "execution_count": null,
      "outputs": []
    },
    {
      "cell_type": "code",
      "source": [
        "print(f\"{string}, Current count is: {cnt}\")"
      ],
      "metadata": {
        "colab": {
          "base_uri": "https://localhost:8080/"
        },
        "id": "BtPMEFtY_75O",
        "outputId": "99585773-28e3-4fe6-e69a-6557b844734e"
      },
      "execution_count": null,
      "outputs": [
        {
          "output_type": "stream",
          "name": "stdout",
          "text": [
            "Oneus, Current count is: 2\n"
          ]
        }
      ]
    },
    {
      "cell_type": "code",
      "source": [
        "sem_grade = 95.64598321421\n",
        "name = \"Fio\"\n",
        "print(\"Hello,\", name, \"your semestral grade is:\" ,sem_grade)"
      ],
      "metadata": {
        "colab": {
          "base_uri": "https://localhost:8080/"
        },
        "id": "Tpee9UHnAJY8",
        "outputId": "5706d9b9-68e2-4b2d-e9c8-8945e26e8963"
      },
      "execution_count": null,
      "outputs": [
        {
          "output_type": "stream",
          "name": "stdout",
          "text": [
            "Hello, Fio your semestral grade is: 95.64598321421\n"
          ]
        }
      ]
    },
    {
      "cell_type": "code",
      "source": [
        "w_pg, w_mg, w_fg = 0.3, 0.3, 0.4 \n",
        "print(\"The weights of your semestral grades are:\\\n",
        "\\n\\t{:.2%} for Prelioms\\\n",
        "\\n\\t{:.2%} for Midterms, and\\\n",
        "\\n\\t{:.2%} for Finals.\" .format(w_pg, w_mg, w_fg))"
      ],
      "metadata": {
        "colab": {
          "base_uri": "https://localhost:8080/"
        },
        "id": "NuAp70pX_fEO",
        "outputId": "6e14ef7d-5390-4d85-e6a6-b3f4e8e30b89"
      },
      "execution_count": null,
      "outputs": [
        {
          "output_type": "stream",
          "name": "stdout",
          "text": [
            "The weights of your semestral grades are:\n",
            "\t30.00% for Prelioms\n",
            "\t30.00% for Midterms, and\n",
            "\t40.00% for Finals.\n"
          ]
        }
      ]
    },
    {
      "cell_type": "code",
      "source": [
        "x = input(\"enter a number: \") \n",
        "x "
      ],
      "metadata": {
        "id": "iJn_McKqDHqf",
        "colab": {
          "base_uri": "https://localhost:8080/",
          "height": 53
        },
        "outputId": "5e9dced5-0462-4337-966b-43a5c131d605"
      },
      "execution_count": 109,
      "outputs": [
        {
          "name": "stdout",
          "output_type": "stream",
          "text": [
            "enter a number: 34\n"
          ]
        },
        {
          "output_type": "execute_result",
          "data": {
            "application/vnd.google.colaboratory.intrinsic+json": {
              "type": "string"
            },
            "text/plain": [
              "'34'"
            ]
          },
          "metadata": {},
          "execution_count": 109
        }
      ]
    },
    {
      "cell_type": "code",
      "source": [
        "name = input(\"Pangalan mo: \")\n",
        "pg = input(\"Enter prelim grade: \")\n",
        "mg =  input(\"Enter midterm grade: \")\n",
        "fg = input(\"Enter finals grade: \")\n",
        "sem_grade = 90 \n",
        "print(\"hello {}, your semestral grade is: {}\" .format(name, sem_grade))\n"
      ],
      "metadata": {
        "id": "Vzjah4N5DT0p",
        "colab": {
          "base_uri": "https://localhost:8080/"
        },
        "outputId": "8e3ff533-f043-4f1d-9869-190c8d0b5fa1"
      },
      "execution_count": 111,
      "outputs": [
        {
          "output_type": "stream",
          "name": "stdout",
          "text": [
            "Pangalan mo: Fiona \n",
            "Enter prelim grade: 90\n",
            "Enter midterm grade: 90\n",
            "Enter finals grade: 90\n",
            "hello Fiona , your semestral grade is: 90\n"
          ]
        }
      ]
    },
    {
      "cell_type": "markdown",
      "source": [
        "# Looping Statements\n"
      ],
      "metadata": {
        "id": "uSHiVMPkEs6V"
      }
    },
    {
      "cell_type": "markdown",
      "source": [
        "### While"
      ],
      "metadata": {
        "id": "XJl8DT5HEyYD"
      }
    },
    {
      "cell_type": "code",
      "source": [
        "## while loops\n",
        "i, j = 0, 10\n",
        "while (i<=j):\n",
        "      print(f\"{i}\\t|\\t{j}\")\n",
        "      i+=1"
      ],
      "metadata": {
        "id": "At9FFPZTE0BU",
        "colab": {
          "base_uri": "https://localhost:8080/"
        },
        "outputId": "a90f1d14-308b-4e45-8a93-65572b76e842"
      },
      "execution_count": 112,
      "outputs": [
        {
          "output_type": "stream",
          "name": "stdout",
          "text": [
            "0\t|\t10\n",
            "1\t|\t10\n",
            "2\t|\t10\n",
            "3\t|\t10\n",
            "4\t|\t10\n",
            "5\t|\t10\n",
            "6\t|\t10\n",
            "7\t|\t10\n",
            "8\t|\t10\n",
            "9\t|\t10\n",
            "10\t|\t10\n"
          ]
        }
      ]
    },
    {
      "cell_type": "markdown",
      "source": [
        "### For"
      ],
      "metadata": {
        "id": "NqDHBCphHJis"
      }
    },
    {
      "cell_type": "code",
      "source": [
        "# for(int k=0; k<0; k++) {\n",
        "# print (k)\n",
        "# }\n",
        "\n",
        "k=0 \n",
        "for k in range(11):\n",
        "    print(k)\n",
        "    "
      ],
      "metadata": {
        "id": "a68BGcj-HLVM",
        "colab": {
          "base_uri": "https://localhost:8080/"
        },
        "outputId": "6822c970-e3a3-46cf-8daa-80f0f8dc6df9"
      },
      "execution_count": 113,
      "outputs": [
        {
          "output_type": "stream",
          "name": "stdout",
          "text": [
            "0\n",
            "1\n",
            "2\n",
            "3\n",
            "4\n",
            "5\n",
            "6\n",
            "7\n",
            "8\n",
            "9\n",
            "10\n"
          ]
        }
      ]
    },
    {
      "cell_type": "code",
      "source": [
        "playlist = [\"Airplane\", \"Black Mirror\", \"Blue Sky\"]\n",
        "print('Now Playing: \\n')\n",
        "for song in playlist:\n",
        "  print(song)"
      ],
      "metadata": {
        "id": "j18DXgl1HrJb",
        "colab": {
          "base_uri": "https://localhost:8080/"
        },
        "outputId": "fb46dde5-ff67-45d9-ee1b-dac97e0c5095"
      },
      "execution_count": 114,
      "outputs": [
        {
          "output_type": "stream",
          "name": "stdout",
          "text": [
            "Now Playing: \n",
            "\n",
            "Airplane\n",
            "Black Mirror\n",
            "Blue Sky\n"
          ]
        }
      ]
    },
    {
      "cell_type": "markdown",
      "source": [
        "# Flow control "
      ],
      "metadata": {
        "id": "VcEJyk2HIJw3"
      }
    },
    {
      "cell_type": "markdown",
      "source": [
        "### Condition Statements"
      ],
      "metadata": {
        "id": "gKaEuEdyINAo"
      }
    },
    {
      "cell_type": "code",
      "source": [
        "num1, num2 = 17, 24\n",
        "if(num1 == num2):\n",
        "    print(\"Yey\")\n",
        "elif(num1>num2):\n",
        "    print('Hoho')\n",
        "else: \n",
        "    print(\"Aww\")"
      ],
      "metadata": {
        "id": "MUuxmdasIO8B",
        "colab": {
          "base_uri": "https://localhost:8080/"
        },
        "outputId": "fa1efcc8-7a16-4386-ffa8-e058475651a4"
      },
      "execution_count": 115,
      "outputs": [
        {
          "output_type": "stream",
          "name": "stdout",
          "text": [
            "Aww\n"
          ]
        }
      ]
    },
    {
      "cell_type": "markdown",
      "source": [
        "### Functions"
      ],
      "metadata": {
        "id": "tnU1z2R9J7OA"
      }
    },
    {
      "cell_type": "code",
      "source": [
        "# void DeleteUser (int userid){\n",
        "#    delete (userid);\n",
        "# }\n",
        "\n",
        "def delete_user (userid):\n",
        "      print(\"successfully deleted all users: {}\" .format(userid))\n",
        "\n",
        "def delete_all_users ():\n",
        "      print(\"Successfully deleted all users\")"
      ],
      "metadata": {
        "id": "aVv7xfIfJ82t"
      },
      "execution_count": 116,
      "outputs": []
    },
    {
      "cell_type": "code",
      "source": [
        "userid = 202010189\n",
        "delete_user(202010189)\n",
        "delete_all_users()"
      ],
      "metadata": {
        "id": "c1LLxyrbKTd0",
        "colab": {
          "base_uri": "https://localhost:8080/"
        },
        "outputId": "2385061a-23a1-4959-e078-50160e1963ff"
      },
      "execution_count": 117,
      "outputs": [
        {
          "output_type": "stream",
          "name": "stdout",
          "text": [
            "successfully deleted all users: 202010189\n",
            "Successfully deleted all users\n"
          ]
        }
      ]
    },
    {
      "cell_type": "code",
      "source": [
        "def add(addend1, addend2):\n",
        "      print(\"I know how to add addend1 and addend2\")\n",
        "      return addend1 + addend2 \n",
        "\n",
        "def power_of_base2(exponent) :\n",
        "      return 2**exponent \n",
        "\n",
        "addend1 = 6\n",
        "addend2 = 16\n",
        "\n",
        "exponent = 6\n",
        "\n",
        "#add(addend1, addend2)\n",
        "power_of_base2(exponent)"
      ],
      "metadata": {
        "id": "uWcE7C6ZLKZY",
        "colab": {
          "base_uri": "https://localhost:8080/"
        },
        "outputId": "c012b804-fcf3-4d38-cf52-bc4f1a77ed1b"
      },
      "execution_count": 118,
      "outputs": [
        {
          "output_type": "execute_result",
          "data": {
            "text/plain": [
              "64"
            ]
          },
          "metadata": {},
          "execution_count": 118
        }
      ]
    },
    {
      "cell_type": "markdown",
      "source": [
        "# Calculator\n"
      ],
      "metadata": {
        "id": "yEUIG1YIiN54"
      }
    },
    {
      "cell_type": "code",
      "source": [
        "print(\"Welcome to Adamson university!\")\n",
        "name = input('\\tWhat is your name? ');\n",
        "cource = input('\\tWhat  is your cource? ');\n",
        "prelim = float(input('\\tEnter Prelim grade '));\n",
        "midterm = float(input('\\tEnter midterm grade '));\n",
        "final = float(input('\\tEnter final grade '));\n",
        "sem_grade = (prelim*0.30) + (midterm*.30) + (final*.40);\n",
        "\n",
        "sem_grade = \"{:.2f}\".format(sem_grade)\n",
        "print();\n",
        "print(\"\\t________________________________________________\");\n",
        "print();\n",
        "print(\"\\tGood day:\", name);\n",
        "print(\"\\tEnrolled Cource: \",cource);\n",
        "print();\n",
        "print(\"\\tYour name is\", name, \"and your couse is\", cource);\n",
        "if float(sem_grade) > 70.00:\n",
        "    print(\"\\tYour semestral grade is\", sem_grade, \"\\U0001F600\"); \n",
        "elif float(sem_grade) == 70:\n",
        "    print(\"\\tYour semestral grade is\", sem_grade, \"\\U0001F606\");\n",
        "elif float(sem_grade) < 70:\n",
        "    print(\"\\tYour semestral grade is\", sem_grade, \"\\U0001F62D\")\n",
        "    print();"
      ],
      "metadata": {
        "id": "fpk8cUiqiYCF",
        "colab": {
          "base_uri": "https://localhost:8080/"
        },
        "outputId": "b5d0b5dd-68b4-40f2-8573-b41aa3feb7c6"
      },
      "execution_count": 119,
      "outputs": [
        {
          "output_type": "stream",
          "name": "stdout",
          "text": [
            "Welcome to Adamson university!\n",
            "\tWhat is your name? Fionaliz \n",
            "\tWhat  is your cource? B.S ChE\n",
            "\tEnter Prelim grade 90\n",
            "\tEnter midterm grade 05\n",
            "\tEnter final grade 97\n",
            "\n",
            "\t________________________________________________\n",
            "\n",
            "\tGood day: Fionaliz \n",
            "\tEnrolled Cource:  B.S ChE\n",
            "\n",
            "\tYour name is Fionaliz  and your couse is B.S ChE\n",
            "\tYour semestral grade is 67.30 😭\n",
            "\n"
          ]
        }
      ]
    }
  ]
}