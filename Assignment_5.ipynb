{
  "nbformat": 4,
  "nbformat_minor": 0,
  "metadata": {
    "colab": {
      "name": "Assignment 5 ",
      "provenance": [],
      "authorship_tag": "ABX9TyMwLk1BOWJtBgSvnsjugAmz",
      "include_colab_link": true
    },
    "kernelspec": {
      "name": "python3",
      "display_name": "Python 3"
    },
    "language_info": {
      "name": "python"
    }
  },
  "cells": [
    {
      "cell_type": "markdown",
      "metadata": {
        "id": "view-in-github",
        "colab_type": "text"
      },
      "source": [
        "<a href=\"https://colab.research.google.com/github/fionaliz/Linear_Algebra_ChE_2nd-Sem-2021-2022/blob/main/Assignment_5.ipynb\" target=\"_parent\"><img src=\"https://colab.research.google.com/assets/colab-badge.svg\" alt=\"Open In Colab\"/></a>"
      ]
    },
    {
      "cell_type": "markdown",
      "source": [
        "## Linear Algebra for ChE \n",
        "\n",
        "Laboratory 6: Matrix operations "
      ],
      "metadata": {
        "id": "CVpHKQurKlUy"
      }
    },
    {
      "cell_type": "markdown",
      "source": [
        "#### Discussion \n",
        "In this activity, the students will be able to acquire the follow:\n",
        "1. Familiarize yourself with basic matrix operations.\n",
        "2. To solve intermediate equations, use the operations.\n",
        "3. In engineering problems, use matrix algebra."
      ],
      "metadata": {
        "id": "hSUNssLPWgov"
      }
    },
    {
      "cell_type": "code",
      "source": [
        "import numpy as np\n",
        "import matplotlib.pyplot as plt\n",
        "%matplotlib inline"
      ],
      "metadata": {
        "id": "ZGgZCGxjWHIB"
      },
      "execution_count": 2,
      "outputs": []
    },
    {
      "cell_type": "markdown",
      "source": [
        "### Transposition "
      ],
      "metadata": {
        "id": "CqVEy_c-Wl_e"
      }
    },
    {
      "cell_type": "markdown",
      "source": [
        "Transposition is a fundamental operation in matrix algebra. The values of a matrix's elements are flipped over its diagonals to transpose it. The rows and columns of the original matrix will be switched as a result of this. As a result, the transpose of a matrix $C$ is denoted by $C^T$. This may now be done programmatically with `np.transpose()` or the `T` function. For instance:"
      ],
      "metadata": {
        "id": "RM8rC4HSLQVt"
      }
    },
    {
      "cell_type": "markdown",
      "source": [
        "$$C = \\begin{bmatrix} 3 & 5 & 4\\\\7 & -6 &0 \\\\ 0 & -8 & 8\\end{bmatrix} $$"
      ],
      "metadata": {
        "id": "lJNBWWF9Wq1p"
      }
    },
    {
      "cell_type": "markdown",
      "source": [
        "$$ C^T = \\begin{bmatrix} 3 & 7 & 0\\\\5 & -6 &-8 \\\\ 4 & 0 & 8\\end{bmatrix}$$"
      ],
      "metadata": {
        "id": "2svIGriyWrBr"
      }
    },
    {
      "cell_type": "markdown",
      "source": [
        "This can now be achieved programmatically by using `np.transpose()` or using the `T` method."
      ],
      "metadata": {
        "id": "Hz2NGI0EWyQT"
      }
    },
    {
      "cell_type": "code",
      "execution_count": 3,
      "metadata": {
        "id": "NOwiQlHnOKy8",
        "colab": {
          "base_uri": "https://localhost:8080/"
        },
        "outputId": "ecaa9192-81c8-4917-b3d3-62dc911758df"
      },
      "outputs": [
        {
          "output_type": "execute_result",
          "data": {
            "text/plain": [
              "array([[ 3,  5,  4],\n",
              "       [ 7, -6,  0],\n",
              "       [ 0, -8,  8]])"
            ]
          },
          "metadata": {},
          "execution_count": 3
        }
      ],
      "source": [
        "C = np.array([\n",
        "    [3 ,5, 4],\n",
        "    [7, -6, 0],\n",
        "    [0, -8, 8]\n",
        "])\n",
        "C"
      ]
    },
    {
      "cell_type": "code",
      "source": [
        "CT1 = np.transpose(C)\n",
        "CT1"
      ],
      "metadata": {
        "id": "pYd9dyAtWRkG",
        "colab": {
          "base_uri": "https://localhost:8080/"
        },
        "outputId": "58ca820e-c010-4494-cf77-4bbb795ff484"
      },
      "execution_count": 4,
      "outputs": [
        {
          "output_type": "execute_result",
          "data": {
            "text/plain": [
              "array([[ 3,  7,  0],\n",
              "       [ 5, -6, -8],\n",
              "       [ 4,  0,  8]])"
            ]
          },
          "metadata": {},
          "execution_count": 4
        }
      ]
    },
    {
      "cell_type": "code",
      "source": [
        "CT2 = C.T\n",
        "CT2"
      ],
      "metadata": {
        "id": "gtGamgxcWYqJ",
        "colab": {
          "base_uri": "https://localhost:8080/"
        },
        "outputId": "75466537-aea4-4d0d-e85a-2f9cdcdc3326"
      },
      "execution_count": 5,
      "outputs": [
        {
          "output_type": "execute_result",
          "data": {
            "text/plain": [
              "array([[ 3,  7,  0],\n",
              "       [ 5, -6, -8],\n",
              "       [ 4,  0,  8]])"
            ]
          },
          "metadata": {},
          "execution_count": 5
        }
      ]
    },
    {
      "cell_type": "code",
      "source": [
        "np.array_equiv(CT1, CT2)"
      ],
      "metadata": {
        "colab": {
          "base_uri": "https://localhost:8080/"
        },
        "id": "ZuJ670J1WcYd",
        "outputId": "2645e426-b07a-4c3e-eb20-4cb17de1a0da"
      },
      "execution_count": 6,
      "outputs": [
        {
          "output_type": "execute_result",
          "data": {
            "text/plain": [
              "True"
            ]
          },
          "metadata": {},
          "execution_count": 6
        }
      ]
    },
    {
      "cell_type": "code",
      "source": [
        "B = np.array([\n",
        "    [9,1,-9],\n",
        "    [5,-8,5],\n",
        "])\n",
        "B.shape"
      ],
      "metadata": {
        "colab": {
          "base_uri": "https://localhost:8080/"
        },
        "id": "aMLihaYAYxJ6",
        "outputId": "0eefc3e6-0084-44fa-af6a-e0f233a7a465"
      },
      "execution_count": 7,
      "outputs": [
        {
          "output_type": "execute_result",
          "data": {
            "text/plain": [
              "(2, 3)"
            ]
          },
          "metadata": {},
          "execution_count": 7
        }
      ]
    },
    {
      "cell_type": "code",
      "source": [
        "np.transpose(B).shape"
      ],
      "metadata": {
        "colab": {
          "base_uri": "https://localhost:8080/"
        },
        "id": "aHB_meLMYz7k",
        "outputId": "30e6a361-9c14-4c6f-8179-e883ff317fa6"
      },
      "execution_count": 8,
      "outputs": [
        {
          "output_type": "execute_result",
          "data": {
            "text/plain": [
              "(3, 2)"
            ]
          },
          "metadata": {},
          "execution_count": 8
        }
      ]
    },
    {
      "cell_type": "code",
      "source": [
        "B.T.shape"
      ],
      "metadata": {
        "colab": {
          "base_uri": "https://localhost:8080/"
        },
        "id": "f1TosGLnY2FU",
        "outputId": "b0959fc9-034c-41bb-c6e8-bb3e93c31993"
      },
      "execution_count": 9,
      "outputs": [
        {
          "output_type": "execute_result",
          "data": {
            "text/plain": [
              "(3, 2)"
            ]
          },
          "metadata": {},
          "execution_count": 9
        }
      ]
    },
    {
      "cell_type": "markdown",
      "source": [
        "###Dot Product "
      ],
      "metadata": {
        "id": "34Vq6SM5Y32d"
      }
    },
    {
      "cell_type": "markdown",
      "source": [
        "If you remember the dot product from the laboratory activity, we'll try to do the same thing with matrices. We'll retrieve the sum of products of the vectors by row-column pairings in matrix dot product. So, if we have two matrices, $X$ and $Y$, we can deduce:\n",
        "\n",
        "$$X = \\begin{bmatrix}x_{(0,0)}&x_{(0,1)}\\\\ x_{(1,0)}&x_{(1,1)}\\end{bmatrix}, Y = \\begin{bmatrix}y_{(0,0)}&y_{(0,1)}\\\\ y_{(1,0)}&y_{(1,1)}\\end{bmatrix}$$\n",
        "\n",
        "The dot product will then be computed as:\n",
        "$$X \\cdot Y= \\begin{bmatrix} x_{(0,0)}*y_{(0,0)} + x_{(0,1)}*y_{(1,0)} & x_{(0,0)}*y_{(0,1)} + x_{(0,1)}*y_{(1,1)} \\\\  x_{(1,0)}*y_{(0,0)} + x_{(1,1)}*y_{(1,0)} & x_{(1,0)}*y_{(0,1)} + x_{(1,1)}*y_{(1,1)}\n",
        "\\end{bmatrix}$$\n",
        "\n",
        "So if we assign values to $X$ and $Y$:\n",
        "$$X = \\begin{bmatrix}1&2\\\\ 0&1\\end{bmatrix}, Y = \\begin{bmatrix}-1&0\\\\ 2&2\\end{bmatrix}$$"
      ],
      "metadata": {
        "id": "N_I-jVPjZMCJ"
      }
    },
    {
      "cell_type": "markdown",
      "source": [
        "$$X \\cdot Y= \\begin{bmatrix} 1*-1 + 2*2 & 1*0 + 2*2 \\\\  0*-1 + 1*2 & 0*0 + 1*2 \\end{bmatrix} = \\begin{bmatrix} 3 & 4 \\\\2 & 2 \\end{bmatrix}$$\n",
        "This could be achieved programmatically using `np.dot()`, `np.matmul()` or the `@` operator."
      ],
      "metadata": {
        "id": "BpFt9n4BZO0b"
      }
    },
    {
      "cell_type": "code",
      "source": [
        "X = np.array([\n",
        "    [3,6],\n",
        "    [0,4]\n",
        "])\n",
        "Y = np.array([\n",
        "    [-7,8],\n",
        "    [2,9]\n",
        "])"
      ],
      "metadata": {
        "id": "pmDofTbJZPrb"
      },
      "execution_count": 10,
      "outputs": []
    },
    {
      "cell_type": "code",
      "source": [
        "np.array_equiv(X, Y)"
      ],
      "metadata": {
        "colab": {
          "base_uri": "https://localhost:8080/"
        },
        "id": "kh4nd9giap7b",
        "outputId": "a2b61617-a9ef-449f-e245-38ef8b4f762c"
      },
      "execution_count": 11,
      "outputs": [
        {
          "output_type": "execute_result",
          "data": {
            "text/plain": [
              "False"
            ]
          },
          "metadata": {},
          "execution_count": 11
        }
      ]
    },
    {
      "cell_type": "code",
      "source": [
        "np.dot(X,Y)"
      ],
      "metadata": {
        "colab": {
          "base_uri": "https://localhost:8080/"
        },
        "id": "_Osn6wpCZYu_",
        "outputId": "63620093-f218-4f46-f9e4-0c6186bd413e"
      },
      "execution_count": 12,
      "outputs": [
        {
          "output_type": "execute_result",
          "data": {
            "text/plain": [
              "array([[-9, 78],\n",
              "       [ 8, 36]])"
            ]
          },
          "metadata": {},
          "execution_count": 12
        }
      ]
    },
    {
      "cell_type": "code",
      "source": [
        "X.dot(Y)"
      ],
      "metadata": {
        "colab": {
          "base_uri": "https://localhost:8080/"
        },
        "id": "Yse8McrmZbEE",
        "outputId": "43b3132e-743f-42ef-bc50-62f98efe3ff1"
      },
      "execution_count": 13,
      "outputs": [
        {
          "output_type": "execute_result",
          "data": {
            "text/plain": [
              "array([[-9, 78],\n",
              "       [ 8, 36]])"
            ]
          },
          "metadata": {},
          "execution_count": 13
        }
      ]
    },
    {
      "cell_type": "code",
      "source": [
        "X @ Y"
      ],
      "metadata": {
        "colab": {
          "base_uri": "https://localhost:8080/"
        },
        "id": "Th2FHRoWZdDO",
        "outputId": "9ea45eb0-bbec-4fae-b8d9-ee7ab70ab4d9"
      },
      "execution_count": 14,
      "outputs": [
        {
          "output_type": "execute_result",
          "data": {
            "text/plain": [
              "array([[-9, 78],\n",
              "       [ 8, 36]])"
            ]
          },
          "metadata": {},
          "execution_count": 14
        }
      ]
    },
    {
      "cell_type": "code",
      "source": [
        "np.matmul(X,Y)"
      ],
      "metadata": {
        "colab": {
          "base_uri": "https://localhost:8080/"
        },
        "id": "DJ1N4m07ZfAn",
        "outputId": "ffd85e30-5d42-44cf-a482-ebd3f11ab3b6"
      },
      "execution_count": 15,
      "outputs": [
        {
          "output_type": "execute_result",
          "data": {
            "text/plain": [
              "array([[-9, 78],\n",
              "       [ 8, 36]])"
            ]
          },
          "metadata": {},
          "execution_count": 15
        }
      ]
    },
    {
      "cell_type": "markdown",
      "source": [
        "In comparison to vector dot products, matrix dot products have additional rules. There are fewer limits because vector dot products are only one dimensional. Since we're dealing with Rank 2 vectors, there are a few rules to keep in mind:\n",
        "\n",
        "### Rule 1: The inner dimensions of the two matrices in question must be the same. \n",
        "\n",
        "Assume you have a matrix A with the shape $(a,b)$, where $a$ and $b$ are any integers. Matrix $B$ should have the shape $(b,c)$, where $b$ and $c$ are any integers, if we want to do a dot product between A and another matrix $B$. As a result, for the following matrices:\n",
        "\n",
        "$$A = \\begin{bmatrix}2&4\\\\5&-2\\\\0&1\\end{bmatrix}, B = \\begin{bmatrix}1&1\\\\3&3\\\\-1&-2\\end{bmatrix}, C = \\begin{bmatrix}0&1&1\\\\1&1&2\\end{bmatrix}$$\n",
        "\n",
        "So in this case $A$ has a shape of $(3,2)$, $B$ has a shape of $(3,2)$ and $C$ has a shape of $(2,3)$. So the only matrix pairs that is eligible to perform dot product is matrices $A \\cdot C$, or $B \\cdot C$.  "
      ],
      "metadata": {
        "id": "wrYOhV2JZm0p"
      }
    },
    {
      "cell_type": "code",
      "source": [
        "A = np.array([\n",
        "    [5, 7, 6],\n",
        "    [9, -8, 9],\n",
        "    [0, 3, 6]\n",
        "])\n",
        "B = np.array([\n",
        "    [6,8,9],\n",
        "    [7,7,7],\n",
        "    [-8,-4,-5]\n",
        "])\n",
        "C = np.array([\n",
        "    [0,2,2],\n",
        "    [3,3,4],\n",
        "    [1,1,1]\n",
        "])\n",
        "print(A.shape)\n",
        "print(B.shape)\n",
        "print(C.shape)"
      ],
      "metadata": {
        "colab": {
          "base_uri": "https://localhost:8080/"
        },
        "id": "uRtJM8d3cOsH",
        "outputId": "68ddb942-3913-4532-d85a-e45e5c15946a"
      },
      "execution_count": 16,
      "outputs": [
        {
          "output_type": "stream",
          "name": "stdout",
          "text": [
            "(3, 3)\n",
            "(3, 3)\n",
            "(3, 3)\n"
          ]
        }
      ]
    },
    {
      "cell_type": "code",
      "source": [
        "A @ C"
      ],
      "metadata": {
        "colab": {
          "base_uri": "https://localhost:8080/"
        },
        "id": "uX-ZbXoTceJM",
        "outputId": "0a848415-5611-4af0-cde4-eb16a3fef6c1"
      },
      "execution_count": 17,
      "outputs": [
        {
          "output_type": "execute_result",
          "data": {
            "text/plain": [
              "array([[ 27,  37,  44],\n",
              "       [-15,   3,  -5],\n",
              "       [ 15,  15,  18]])"
            ]
          },
          "metadata": {},
          "execution_count": 17
        }
      ]
    },
    {
      "cell_type": "code",
      "source": [
        "B @ C"
      ],
      "metadata": {
        "colab": {
          "base_uri": "https://localhost:8080/"
        },
        "id": "O9lO4OFEcgQ3",
        "outputId": "30c1f8d0-7965-41c9-bbd0-8de8cef80beb"
      },
      "execution_count": 18,
      "outputs": [
        {
          "output_type": "execute_result",
          "data": {
            "text/plain": [
              "array([[ 33,  45,  53],\n",
              "       [ 28,  42,  49],\n",
              "       [-17, -33, -37]])"
            ]
          },
          "metadata": {},
          "execution_count": 18
        }
      ]
    },
    {
      "cell_type": "markdown",
      "source": [
        "If you would notice the shape of the dot product changed and its shape is not the same as any of the matrices we used. The shape of a dot product is actually derived from the shapes of the matrices used. So recall matrix $A$ with a shape of $(a,b)$ and matrix $B$ with a shape of $(b,c)$, $A \\cdot B$ should have a shape $(a,c)$."
      ],
      "metadata": {
        "id": "QP0KoqrZcjt5"
      }
    },
    {
      "cell_type": "code",
      "source": [
        "A @ B.T"
      ],
      "metadata": {
        "colab": {
          "base_uri": "https://localhost:8080/"
        },
        "id": "cbv0jV9BclHB",
        "outputId": "5e876c10-7e44-4561-b666-ed023f7492c6"
      },
      "execution_count": 19,
      "outputs": [
        {
          "output_type": "execute_result",
          "data": {
            "text/plain": [
              "array([[140, 126, -98],\n",
              "       [ 71,  70, -85],\n",
              "       [ 78,  63, -42]])"
            ]
          },
          "metadata": {},
          "execution_count": 19
        }
      ]
    },
    {
      "cell_type": "code",
      "source": [
        "X = np.array([\n",
        "    [4,5,6,7]\n",
        "])\n",
        "Y = np.array([\n",
        "    [8,9,8,-7]\n",
        "])\n",
        "print(X.shape)\n",
        "print(Y.shape)"
      ],
      "metadata": {
        "colab": {
          "base_uri": "https://localhost:8080/"
        },
        "id": "NEUcwGR9cpd6",
        "outputId": "31c2b216-e748-431d-f162-12a730470c0a"
      },
      "execution_count": 20,
      "outputs": [
        {
          "output_type": "stream",
          "name": "stdout",
          "text": [
            "(1, 4)\n",
            "(1, 4)\n"
          ]
        }
      ]
    },
    {
      "cell_type": "code",
      "source": [
        "Y.T @ X"
      ],
      "metadata": {
        "colab": {
          "base_uri": "https://localhost:8080/"
        },
        "id": "uOLJ__vtcrQ7",
        "outputId": "cc3079d6-dff2-4e9c-d9e3-99d724720d1f"
      },
      "execution_count": 21,
      "outputs": [
        {
          "output_type": "execute_result",
          "data": {
            "text/plain": [
              "array([[ 32,  40,  48,  56],\n",
              "       [ 36,  45,  54,  63],\n",
              "       [ 32,  40,  48,  56],\n",
              "       [-28, -35, -42, -49]])"
            ]
          },
          "metadata": {},
          "execution_count": 21
        }
      ]
    },
    {
      "cell_type": "markdown",
      "source": [
        "As it shown that when you try to multiply A and B, it returns `ValueError` pertaining to matrix shape mismatch."
      ],
      "metadata": {
        "id": "-GM3D4rQc1Vi"
      }
    },
    {
      "cell_type": "markdown",
      "source": [
        "### Rule2\n",
        "Dot products are common in matrix algebra, which means they have various distinct qualities that should be taken into account while formulating solutions:\n",
        " 1. $A \\cdot B \\neq B \\cdot A$\n",
        " 2. $A \\cdot (B \\cdot C) = (A \\cdot B) \\cdot C$\n",
        " 3. $A\\cdot(B+C) = A\\cdot B + A\\cdot C$\n",
        " 4. $(B+C)\\cdot A = B\\cdot A + C\\cdot A$\n",
        " 5. $A\\cdot I = A$\n",
        " 6. $A\\cdot \\emptyset = \\emptyset$ "
      ],
      "metadata": {
        "id": "_kkXZYksZpqC"
      }
    },
    {
      "cell_type": "code",
      "source": [
        "A = np.array([\n",
        "    [5,6,7],\n",
        "    [1,6,8],\n",
        "    [2,1,0]\n",
        "])\n",
        "B = np.array([\n",
        "    [5,2,7],\n",
        "    [1,1,1],\n",
        "    [4,3,3]\n",
        "])\n",
        "C = np.array([\n",
        "    [2,2,0],\n",
        "    [0,3,3],\n",
        "    [4,0,4]\n",
        "])"
      ],
      "metadata": {
        "id": "Pei2T76Sc4tc"
      },
      "execution_count": 22,
      "outputs": []
    },
    {
      "cell_type": "code",
      "source": [
        "A.dot(np.zeros(A.shape))"
      ],
      "metadata": {
        "colab": {
          "base_uri": "https://localhost:8080/"
        },
        "id": "Y4jjhtgKc--I",
        "outputId": "b92616a6-4f54-41a4-fca9-d62e035824cc"
      },
      "execution_count": 23,
      "outputs": [
        {
          "output_type": "execute_result",
          "data": {
            "text/plain": [
              "array([[0., 0., 0.],\n",
              "       [0., 0., 0.],\n",
              "       [0., 0., 0.]])"
            ]
          },
          "metadata": {},
          "execution_count": 23
        }
      ]
    },
    {
      "cell_type": "code",
      "source": [
        "z_mat = np.zeros(A.shape)\n",
        "z_mat"
      ],
      "metadata": {
        "colab": {
          "base_uri": "https://localhost:8080/"
        },
        "id": "6kSeiPY_dMBs",
        "outputId": "57610e05-f01e-4659-de51-f5a709e9230b"
      },
      "execution_count": 24,
      "outputs": [
        {
          "output_type": "execute_result",
          "data": {
            "text/plain": [
              "array([[0., 0., 0.],\n",
              "       [0., 0., 0.],\n",
              "       [0., 0., 0.]])"
            ]
          },
          "metadata": {},
          "execution_count": 24
        }
      ]
    },
    {
      "cell_type": "code",
      "source": [
        "a_dot_z = A.dot(np.zeros(A.shape))\n",
        "a_dot_z"
      ],
      "metadata": {
        "colab": {
          "base_uri": "https://localhost:8080/"
        },
        "id": "44Gyf6SEdOxA",
        "outputId": "2de716fc-9aa4-44e9-c8e6-e745824bffe7"
      },
      "execution_count": 25,
      "outputs": [
        {
          "output_type": "execute_result",
          "data": {
            "text/plain": [
              "array([[0., 0., 0.],\n",
              "       [0., 0., 0.],\n",
              "       [0., 0., 0.]])"
            ]
          },
          "metadata": {},
          "execution_count": 25
        }
      ]
    },
    {
      "cell_type": "code",
      "source": [
        "np.array_equal(a_dot_z,z_mat)"
      ],
      "metadata": {
        "colab": {
          "base_uri": "https://localhost:8080/"
        },
        "id": "vmh0VSlsdSdE",
        "outputId": "fa176458-8e36-4ce5-f1db-c220d9901a58"
      },
      "execution_count": 26,
      "outputs": [
        {
          "output_type": "execute_result",
          "data": {
            "text/plain": [
              "True"
            ]
          },
          "metadata": {},
          "execution_count": 26
        }
      ]
    },
    {
      "cell_type": "code",
      "source": [
        "null_mat = np.empty(A.shape, dtype=float)\n",
        "null = np.array(null_mat,dtype=float)\n",
        "print(null)\n",
        "np.allclose(a_dot_z,null)"
      ],
      "metadata": {
        "colab": {
          "base_uri": "https://localhost:8080/"
        },
        "id": "nIdrnHNXdUTi",
        "outputId": "27206b19-6317-4401-ba76-1f8237533ef8"
      },
      "execution_count": 27,
      "outputs": [
        {
          "output_type": "stream",
          "name": "stdout",
          "text": [
            "[[0. 0. 0.]\n",
            " [0. 0. 0.]\n",
            " [0. 0. 0.]]\n"
          ]
        },
        {
          "output_type": "execute_result",
          "data": {
            "text/plain": [
              "True"
            ]
          },
          "metadata": {},
          "execution_count": 27
        }
      ]
    },
    {
      "cell_type": "markdown",
      "source": [
        "###Determinant"
      ],
      "metadata": {
        "id": "nedwKlaVZuzQ"
      }
    },
    {
      "cell_type": "markdown",
      "source": [
        "A determinant is a scalar value that can be calculated using a square matrix. In matrix algebra, the determinant is a fundamental and crucial value. Although it will not be clear how it may be utilized realistically in this laboratory, it will be extensively employed in future lessons. \n",
        "\n",
        "The determinant of some matrix $A$ is denoted as $det(A)$ or $|A|$. So let's say $A$ is represented as:\n",
        "$$A = \\begin{bmatrix}a_{(0,0)}&a_{(0,1)}\\\\a_{(1,0)}&a_{(1,1)}\\end{bmatrix}$$\n",
        "We can compute for the determinant as:\n",
        "$$|A| = a_{(0,0)}*a_{(1,1)} - a_{(1,0)}*a_{(0,1)}$$\n",
        "So if we have $A$ as:\n",
        "$$A = \\begin{bmatrix}1&4\\\\0&3\\end{bmatrix}, |A| = 3$$\n",
        "\n",
        "But what about square matrices that aren't in the shape (2,2)? Several strategies, such as co-factor expansion and the minors method, can be used to solve this problem. This can be taught in a laboratory lecture, but we can use Python to perform the difficult computation of high-dimensional matrices programmatically. Using `np.linalg.det()`, we can accomplish this."
      ],
      "metadata": {
        "id": "VmQoDoq6ZzCZ"
      }
    },
    {
      "cell_type": "code",
      "source": [
        "A = np.array([\n",
        "    [5,7],\n",
        "    [4,9]\n",
        "])\n",
        "np.linalg.det(A)"
      ],
      "metadata": {
        "colab": {
          "base_uri": "https://localhost:8080/"
        },
        "id": "wp1R_8vgZ3L5",
        "outputId": "8c4fb93a-67d3-4551-d5c4-0899aa4cf29b"
      },
      "execution_count": 28,
      "outputs": [
        {
          "output_type": "execute_result",
          "data": {
            "text/plain": [
              "16.999999999999993"
            ]
          },
          "metadata": {},
          "execution_count": 28
        }
      ]
    },
    {
      "cell_type": "code",
      "source": [
        "B = np.array([\n",
        "    [5,7,8],\n",
        "    [4,9,10],\n",
        "    [0,3,4]\n",
        "])\n",
        "np.linalg.det(B)"
      ],
      "metadata": {
        "colab": {
          "base_uri": "https://localhost:8080/"
        },
        "id": "DtxoKJCnfRuN",
        "outputId": "83093241-2bb0-4979-b5ca-66b9ba429896"
      },
      "execution_count": 29,
      "outputs": [
        {
          "output_type": "execute_result",
          "data": {
            "text/plain": [
              "13.999999999999991"
            ]
          },
          "metadata": {},
          "execution_count": 29
        }
      ]
    },
    {
      "cell_type": "code",
      "source": [
        "## Now other mathematics classes would require you to solve this by hand, \n",
        "## and that is great for practicing your memorization and coordination skills \n",
        "## but in this class we aim for simplicity and speed so we'll use programming\n",
        "## but it's completely fine if you want to try to solve this one by hand.\n",
        "B = np.array([\n",
        "    [1,3,5,6],\n",
        "    [0,3,1,3],\n",
        "    [3,1,8,2],\n",
        "    [5,2,6,8]\n",
        "])\n",
        "np.linalg.det(B)"
      ],
      "metadata": {
        "colab": {
          "base_uri": "https://localhost:8080/"
        },
        "id": "YgPxMYXzZ7VH",
        "outputId": "b0be5297-6aa1-4050-84a1-8c09942e8863"
      },
      "execution_count": null,
      "outputs": [
        {
          "output_type": "execute_result",
          "data": {
            "text/plain": [
              "-235.0000000000002"
            ]
          },
          "metadata": {},
          "execution_count": 59
        }
      ]
    },
    {
      "cell_type": "markdown",
      "source": [
        "### Inverse"
      ],
      "metadata": {
        "id": "-EV_fGI7Z9Vj"
      }
    },
    {
      "cell_type": "markdown",
      "source": [
        "Another essential operation in matrix algebra is the inverse of a matrix. We can identify a matrix's solvability and characteristic as a system of linear equations by determining its inverse — we'll go over this more in the nect module. The inverse matrix can also be used to solve the problem of divisibility amongst matrices. Although element-by-element division is possible, dividing matrices as a whole is not. Inverse matrices allow a similar process that might be thought of as \"splitting\" matrices.\n",
        "\n",
        "Now to determine the inverse of a matrix we need to perform several steps. So let's say we have a matrix $M$:\n",
        "$$M = \\begin{bmatrix}1&7\\\\-3&5\\end{bmatrix}$$\n",
        "First, we need to get the determinant of $M$.\n",
        "$$|M| = (1)(5)-(-3)(7) = 26$$\n",
        "Next, we need to reform the matrix into the inverse form:\n",
        "$$M^{-1} = \\frac{1}{|M|} \\begin{bmatrix} m_{(1,1)} & -m_{(0,1)} \\\\ -m_{(1,0)} & m_{(0,0)}\\end{bmatrix}$$\n",
        "So that will be:\n",
        "$$M^{-1} = \\frac{1}{26} \\begin{bmatrix} 5 & -7 \\\\ 3 & 1\\end{bmatrix} = \\begin{bmatrix} \\frac{5}{26} & \\frac{-7}{26} \\\\ \\frac{3}{26} & \\frac{1}{26}\\end{bmatrix}$$\n",
        "For higher-dimension matrices you might need to use co-factors, minors, adjugates, and other reduction techinques. To solve this programmatially we can use `np.linalg.inv()`."
      ],
      "metadata": {
        "id": "r5mhUQyoaBQz"
      }
    },
    {
      "cell_type": "code",
      "source": [
        "M = np.array([\n",
        "    [3,8],\n",
        "    [-5, 9]\n",
        "])\n",
        "\n",
        "np.array(M @ np.linalg.inv(M), dtype=int)"
      ],
      "metadata": {
        "colab": {
          "base_uri": "https://localhost:8080/"
        },
        "id": "TwSdLn9haIKv",
        "outputId": "ce83e053-220b-4324-f204-1a21f1aa06fe"
      },
      "execution_count": 30,
      "outputs": [
        {
          "output_type": "execute_result",
          "data": {
            "text/plain": [
              "array([[1, 0],\n",
              "       [0, 1]])"
            ]
          },
          "metadata": {},
          "execution_count": 30
        }
      ]
    },
    {
      "cell_type": "code",
      "source": [
        "R = np.array([\n",
        "              [1, 3, 5],\n",
        "              [7, 9, 2],\n",
        "              [-4, 6, 8]\n",
        "])\n",
        "T = np.linalg.inv(R)\n",
        "T"
      ],
      "metadata": {
        "colab": {
          "base_uri": "https://localhost:8080/"
        },
        "id": "V_1-Qtyuh_8F",
        "outputId": "8f76d7c0-8413-42f5-a6d7-d9e3dbaf03dd"
      },
      "execution_count": 31,
      "outputs": [
        {
          "output_type": "execute_result",
          "data": {
            "text/plain": [
              "array([[ 0.23255814,  0.02325581, -0.15116279],\n",
              "       [-0.24806202,  0.10852713,  0.12790698],\n",
              "       [ 0.30232558, -0.06976744, -0.04651163]])"
            ]
          },
          "metadata": {},
          "execution_count": 31
        }
      ]
    },
    {
      "cell_type": "code",
      "source": [
        "R @ T"
      ],
      "metadata": {
        "colab": {
          "base_uri": "https://localhost:8080/"
        },
        "id": "LfOc5MKXiCK4",
        "outputId": "67d3a355-2a26-4cb1-cee4-74f61caa4166"
      },
      "execution_count": 32,
      "outputs": [
        {
          "output_type": "execute_result",
          "data": {
            "text/plain": [
              "array([[ 1.00000000e+00,  1.38777878e-17, -3.46944695e-17],\n",
              "       [ 1.11022302e-16,  1.00000000e+00, -6.93889390e-17],\n",
              "       [ 0.00000000e+00,  0.00000000e+00,  1.00000000e+00]])"
            ]
          },
          "metadata": {},
          "execution_count": 32
        }
      ]
    },
    {
      "cell_type": "code",
      "source": [
        "N = np.array([\n",
        "    [1,2,2,3,4,4,5],\n",
        "    [5,6,6,7,8,8,9],\n",
        "    [0,1,1,2,3,3,4],\n",
        "    [10,11,11,10,9,9,11],\n",
        "    [9,8,8,9,7,7,8],\n",
        "    [-1,13,13,0,0,1,-1],\n",
        "    [5,3,0,4,5,15,12],\n",
        "])\n",
        "N_inv = np.linalg.inv(N)\n",
        "np.array(N @ N_inv,dtype=int)"
      ],
      "metadata": {
        "colab": {
          "base_uri": "https://localhost:8080/"
        },
        "id": "HBWGaE6aiG86",
        "outputId": "8ee71ddb-0fcf-464f-b8b9-1639352561c2"
      },
      "execution_count": 33,
      "outputs": [
        {
          "output_type": "execute_result",
          "data": {
            "text/plain": [
              "array([[  2,   0,   0,   0,   0,   0,   0],\n",
              "       [  4,  -2,   8,   0,   0,   0,   0],\n",
              "       [  0,   0,  -1,   0,   0,   0,   0],\n",
              "       [ -4,  -1,  10,   1,   0,   0,   0],\n",
              "       [  4,  -1,  20,   0,   1,   0,   0],\n",
              "       [ 13,  -8,  -8,   0,   0,   0,   0],\n",
              "       [-15,   4,  21,   0,   0,   0,   1]])"
            ]
          },
          "metadata": {},
          "execution_count": 33
        }
      ]
    },
    {
      "cell_type": "markdown",
      "source": [
        "To validate the wether if the matric that you have solved is really the inverse, we follow this dot product property for a matrix $M$:\n",
        "$$M\\cdot M^{-1} = I$$"
      ],
      "metadata": {
        "id": "g5n-2WDFaQ9R"
      }
    },
    {
      "cell_type": "code",
      "source": [
        "squad = np.array([\n",
        "    [1.0, 1.0, 0.5],\n",
        "    [0.7, 0.7, 0.9],\n",
        "    [0.3, 0.3, 1.0]\n",
        "])\n",
        "weights = np.array([\n",
        "    [0.2, 0.2, 0.6]\n",
        "])\n",
        "p_grade = squad @ weights.T\n",
        "p_grade\n"
      ],
      "metadata": {
        "id": "OJLrlv9laTwc",
        "colab": {
          "base_uri": "https://localhost:8080/"
        },
        "outputId": "8153b190-7296-46aa-d722-b7e7511ff675"
      },
      "execution_count": 34,
      "outputs": [
        {
          "output_type": "execute_result",
          "data": {
            "text/plain": [
              "array([[0.7 ],\n",
              "       [0.82],\n",
              "       [0.72]])"
            ]
          },
          "metadata": {},
          "execution_count": 34
        }
      ]
    },
    {
      "cell_type": "markdown",
      "source": [
        "### Task 1\n"
      ],
      "metadata": {
        "id": "hm8W0ubeOBGM"
      }
    },
    {
      "cell_type": "markdown",
      "source": [
        "Prove and implement the remaining 6 matrix multiplication properties. You may create your own matrices in which their shapes should not be lower than $(3,3)$.\n",
        "In your methodology, create individual flowcharts for each property and discuss the property you would then present your proofs or validity of your implementation in the results section by comparing your result to present functions from NumPy.\n",
        "\n",
        " 1. $A \\cdot B \\neq B \\cdot A$\n",
        " 2. $A \\cdot (B \\cdot C) = (A \\cdot B) \\cdot C$\n",
        " 3. $A\\cdot(B+C) = A\\cdot B + A\\cdot C$\n",
        " 4. $(B+C)\\cdot A = B\\cdot A + C\\cdot A$\n",
        " 5. $A\\cdot I = A$\n",
        " 6. $A\\cdot \\emptyset = \\emptyset$ \n"
      ],
      "metadata": {
        "id": "l-bXkpeZOC5G"
      }
    },
    {
      "cell_type": "code",
      "source": [
        "D = np.array([\n",
        "    [8, 4, 24],\n",
        "    [8, 6, -5],\n",
        "    [9, 1, 15]          \n",
        "])\n",
        "\n",
        "O = np.array([\n",
        "    [17, 35, 79],\n",
        "    [6, 51, 5],\n",
        "    [38, -1, -6]          \n",
        "])\n",
        "\n",
        "G = np.array([\n",
        "    [23, 70, -34],\n",
        "    [24, -9, 8],\n",
        "    [34, 2, 46]          \n",
        "])"
      ],
      "metadata": {
        "id": "yWKhy8z0PEI1"
      },
      "execution_count": 35,
      "outputs": []
    },
    {
      "cell_type": "markdown",
      "source": [
        "Property no.1: $A \\cdot B \\neq B \\cdot A$"
      ],
      "metadata": {
        "id": "eGR_XPioO3Ry"
      }
    },
    {
      "cell_type": "code",
      "source": [
        "W= D @ O\n",
        "W"
      ],
      "metadata": {
        "colab": {
          "base_uri": "https://localhost:8080/"
        },
        "id": "zTl_p0ThPfW8",
        "outputId": "4af6fa3c-9123-44a6-8be1-dbfd6680b3ec"
      },
      "execution_count": 36,
      "outputs": [
        {
          "output_type": "execute_result",
          "data": {
            "text/plain": [
              "array([[1072,  460,  508],\n",
              "       [ -18,  591,  692],\n",
              "       [ 729,  351,  626]])"
            ]
          },
          "metadata": {},
          "execution_count": 36
        }
      ]
    },
    {
      "cell_type": "code",
      "source": [
        "E = O @ D\n",
        "E"
      ],
      "metadata": {
        "colab": {
          "base_uri": "https://localhost:8080/"
        },
        "id": "D0Cv1L3JPjL4",
        "outputId": "2c583b33-c201-454a-b3ff-b1ef66abdecc"
      },
      "execution_count": 37,
      "outputs": [
        {
          "output_type": "execute_result",
          "data": {
            "text/plain": [
              "array([[1127,  357, 1418],\n",
              "       [ 501,  335,  -36],\n",
              "       [ 242,  140,  827]])"
            ]
          },
          "metadata": {},
          "execution_count": 37
        }
      ]
    },
    {
      "cell_type": "code",
      "source": [
        "np.array_equiv(W, E)"
      ],
      "metadata": {
        "colab": {
          "base_uri": "https://localhost:8080/"
        },
        "id": "RBMuhbV4PmtZ",
        "outputId": "c03f6fad-ea01-4f98-ea84-15e92ac6110d"
      },
      "execution_count": 38,
      "outputs": [
        {
          "output_type": "execute_result",
          "data": {
            "text/plain": [
              "False"
            ]
          },
          "metadata": {},
          "execution_count": 38
        }
      ]
    },
    {
      "cell_type": "markdown",
      "source": [
        "Property no.2: $A \\cdot (B \\cdot C) = (A \\cdot B) \\cdot C$"
      ],
      "metadata": {
        "id": "p95VssgiPRo2"
      }
    },
    {
      "cell_type": "code",
      "source": [
        "M = D @ (O @ G)\n",
        "M"
      ],
      "metadata": {
        "colab": {
          "base_uri": "https://localhost:8080/"
        },
        "id": "uswivhRdQBy2",
        "outputId": "fa928c49-b1e1-4035-9617-68319e699ca7"
      },
      "execution_count": 39,
      "outputs": [
        {
          "output_type": "execute_result",
          "data": {
            "text/plain": [
              "array([[52968, 71916, -9400],\n",
              "       [37298, -5195, 37172],\n",
              "       [46475, 49123,  6818]])"
            ]
          },
          "metadata": {},
          "execution_count": 39
        }
      ]
    },
    {
      "cell_type": "code",
      "source": [
        "Y = (D @ O) @ G\n",
        "Y "
      ],
      "metadata": {
        "colab": {
          "base_uri": "https://localhost:8080/"
        },
        "id": "JEW659GKQMeL",
        "outputId": "8f68feae-be4a-4832-9358-26af55ba8e6d"
      },
      "execution_count": 40,
      "outputs": [
        {
          "output_type": "execute_result",
          "data": {
            "text/plain": [
              "array([[52968, 71916, -9400],\n",
              "       [37298, -5195, 37172],\n",
              "       [46475, 49123,  6818]])"
            ]
          },
          "metadata": {},
          "execution_count": 40
        }
      ]
    },
    {
      "cell_type": "code",
      "source": [
        " np.array_equiv(M, Y)"
      ],
      "metadata": {
        "colab": {
          "base_uri": "https://localhost:8080/"
        },
        "id": "G1xloLS7Sxva",
        "outputId": "56394bcf-7224-4231-ae98-4031b7577123"
      },
      "execution_count": 41,
      "outputs": [
        {
          "output_type": "execute_result",
          "data": {
            "text/plain": [
              "True"
            ]
          },
          "metadata": {},
          "execution_count": 41
        }
      ]
    },
    {
      "cell_type": "markdown",
      "source": [
        "Property no.3: $A\\cdot(B+C) = A\\cdot B + A\\cdot C$"
      ],
      "metadata": {
        "id": "RYcEacGkPapa"
      }
    },
    {
      "cell_type": "code",
      "source": [
        "I = D @ (O + G)\n",
        "I"
      ],
      "metadata": {
        "colab": {
          "base_uri": "https://localhost:8080/"
        },
        "id": "IXxteGKgTW6D",
        "outputId": "68ec4f58-a18a-4f7b-c6a3-a2b79003223b"
      },
      "execution_count": 42,
      "outputs": [
        {
          "output_type": "execute_result",
          "data": {
            "text/plain": [
              "array([[2168, 1032, 1372],\n",
              "       [ 140, 1087,  238],\n",
              "       [1470, 1002, 1018]])"
            ]
          },
          "metadata": {},
          "execution_count": 42
        }
      ]
    },
    {
      "cell_type": "code",
      "source": [
        "S = D @ O + D @ G\n",
        "S"
      ],
      "metadata": {
        "colab": {
          "base_uri": "https://localhost:8080/"
        },
        "id": "lzGnj_pmTb-G",
        "outputId": "4c22d4d8-92e3-437d-fb36-af5458c1663f"
      },
      "execution_count": 43,
      "outputs": [
        {
          "output_type": "execute_result",
          "data": {
            "text/plain": [
              "array([[2168, 1032, 1372],\n",
              "       [ 140, 1087,  238],\n",
              "       [1470, 1002, 1018]])"
            ]
          },
          "metadata": {},
          "execution_count": 43
        }
      ]
    },
    {
      "cell_type": "code",
      "source": [
        "np.array_equiv(I, S)"
      ],
      "metadata": {
        "colab": {
          "base_uri": "https://localhost:8080/"
        },
        "id": "mSCqtm8nTg7L",
        "outputId": "30a58224-d981-42f4-b02e-f3144d26abac"
      },
      "execution_count": 44,
      "outputs": [
        {
          "output_type": "execute_result",
          "data": {
            "text/plain": [
              "True"
            ]
          },
          "metadata": {},
          "execution_count": 44
        }
      ]
    },
    {
      "cell_type": "markdown",
      "source": [
        "Propery no.4: $(B+C)\\cdot A = B\\cdot A + C\\cdot A$"
      ],
      "metadata": {
        "id": "78KO95grPjpI"
      }
    },
    {
      "cell_type": "code",
      "source": [
        "L = (O + G) @ D\n",
        "L"
      ],
      "metadata": {
        "colab": {
          "base_uri": "https://localhost:8080/"
        },
        "id": "NdQ4czadTxz3",
        "outputId": "257138ac-eefe-4629-bc3b-bdbf313c9bb4"
      },
      "execution_count": 45,
      "outputs": [
        {
          "output_type": "execute_result",
          "data": {
            "text/plain": [
              "array([[1565,  835, 1110],\n",
              "       [ 693,  385,  705],\n",
              "       [ 944,  334, 2323]])"
            ]
          },
          "metadata": {},
          "execution_count": 45
        }
      ]
    },
    {
      "cell_type": "code",
      "source": [
        "U = O @ D + G @ D\n",
        "U"
      ],
      "metadata": {
        "colab": {
          "base_uri": "https://localhost:8080/"
        },
        "id": "nG4CyRlaT_5s",
        "outputId": "365a04e7-0aa3-462a-922f-bffa2cb7ba9f"
      },
      "execution_count": 46,
      "outputs": [
        {
          "output_type": "execute_result",
          "data": {
            "text/plain": [
              "array([[1565,  835, 1110],\n",
              "       [ 693,  385,  705],\n",
              "       [ 944,  334, 2323]])"
            ]
          },
          "metadata": {},
          "execution_count": 46
        }
      ]
    },
    {
      "cell_type": "code",
      "source": [
        "np.array_equiv(L, U)"
      ],
      "metadata": {
        "colab": {
          "base_uri": "https://localhost:8080/"
        },
        "id": "sZ1Ruh-1UGEG",
        "outputId": "61e47574-6881-49df-b13f-02248ee5d63c"
      },
      "execution_count": 47,
      "outputs": [
        {
          "output_type": "execute_result",
          "data": {
            "text/plain": [
              "True"
            ]
          },
          "metadata": {},
          "execution_count": 47
        }
      ]
    },
    {
      "cell_type": "markdown",
      "source": [
        "Property no.5: $A\\cdot I = A$"
      ],
      "metadata": {
        "id": "sLY21s9RPtQF"
      }
    },
    {
      "cell_type": "code",
      "source": [
        "D@np.eye(3)"
      ],
      "metadata": {
        "colab": {
          "base_uri": "https://localhost:8080/"
        },
        "id": "g3xnRRwgUgot",
        "outputId": "1343a4c4-2bab-490e-92b2-45ab9d548d89"
      },
      "execution_count": 48,
      "outputs": [
        {
          "output_type": "execute_result",
          "data": {
            "text/plain": [
              "array([[ 8.,  4., 24.],\n",
              "       [ 8.,  6., -5.],\n",
              "       [ 9.,  1., 15.]])"
            ]
          },
          "metadata": {},
          "execution_count": 48
        }
      ]
    },
    {
      "cell_type": "code",
      "source": [
        "np.array_equiv(D, D@np.eye(3))"
      ],
      "metadata": {
        "colab": {
          "base_uri": "https://localhost:8080/"
        },
        "id": "SNahg3KDVAuv",
        "outputId": "be903eb6-17c0-483e-d77b-9edc9be87b15"
      },
      "execution_count": 49,
      "outputs": [
        {
          "output_type": "execute_result",
          "data": {
            "text/plain": [
              "True"
            ]
          },
          "metadata": {},
          "execution_count": 49
        }
      ]
    },
    {
      "cell_type": "markdown",
      "source": [
        "Property no.6:  $A\\cdot \\emptyset = \\emptyset$ "
      ],
      "metadata": {
        "id": "eNjGvMgWQJU8"
      }
    },
    {
      "cell_type": "code",
      "source": [
        "D@np.zeros ((3,3))"
      ],
      "metadata": {
        "colab": {
          "base_uri": "https://localhost:8080/"
        },
        "id": "IjsOhejlVIDR",
        "outputId": "9b28020f-0ce2-469f-8b2c-4493ba731cd9"
      },
      "execution_count": 60,
      "outputs": [
        {
          "output_type": "execute_result",
          "data": {
            "text/plain": [
              "array([[0., 0., 0.],\n",
              "       [0., 0., 0.],\n",
              "       [0., 0., 0.]])"
            ]
          },
          "metadata": {},
          "execution_count": 60
        }
      ]
    },
    {
      "cell_type": "code",
      "source": [
        "np.array_equiv(D@np.zeros((3,3)), np.zeros((3,3)))"
      ],
      "metadata": {
        "colab": {
          "base_uri": "https://localhost:8080/"
        },
        "id": "KAXTfj84VOHL",
        "outputId": "61a2e7de-1ce6-4133-8e74-7af4dd406794"
      },
      "execution_count": 61,
      "outputs": [
        {
          "output_type": "execute_result",
          "data": {
            "text/plain": [
              "True"
            ]
          },
          "metadata": {},
          "execution_count": 61
        }
      ]
    },
    {
      "cell_type": "code",
      "source": [
        "D.dot(np.zeros(D.shape))"
      ],
      "metadata": {
        "colab": {
          "base_uri": "https://localhost:8080/"
        },
        "id": "6Y7Nn6guVfHa",
        "outputId": "a8ac8298-885e-4782-cc0d-eec142a71819"
      },
      "execution_count": 62,
      "outputs": [
        {
          "output_type": "execute_result",
          "data": {
            "text/plain": [
              "array([[0., 0., 0.],\n",
              "       [0., 0., 0.],\n",
              "       [0., 0., 0.]])"
            ]
          },
          "metadata": {},
          "execution_count": 62
        }
      ]
    },
    {
      "cell_type": "code",
      "source": [
        "z_mat = np.zeros (D.shape)\n",
        "z_mat"
      ],
      "metadata": {
        "colab": {
          "base_uri": "https://localhost:8080/"
        },
        "id": "CVZdvqUYWCVN",
        "outputId": "4d4dd867-a692-4158-c760-f0621e48ca0a"
      },
      "execution_count": 63,
      "outputs": [
        {
          "output_type": "execute_result",
          "data": {
            "text/plain": [
              "array([[0., 0., 0.],\n",
              "       [0., 0., 0.],\n",
              "       [0., 0., 0.]])"
            ]
          },
          "metadata": {},
          "execution_count": 63
        }
      ]
    },
    {
      "cell_type": "code",
      "source": [
        "i_dot_z = D.dot(np.zeros(D.shape))\n",
        "i_dot_z"
      ],
      "metadata": {
        "colab": {
          "base_uri": "https://localhost:8080/"
        },
        "id": "kmbLGKT6WYhM",
        "outputId": "77307085-0fb0-4015-dfc9-c14821f40206"
      },
      "execution_count": 64,
      "outputs": [
        {
          "output_type": "execute_result",
          "data": {
            "text/plain": [
              "array([[0., 0., 0.],\n",
              "       [0., 0., 0.],\n",
              "       [0., 0., 0.]])"
            ]
          },
          "metadata": {},
          "execution_count": 64
        }
      ]
    },
    {
      "cell_type": "code",
      "source": [
        "np.array_equal(i_dot_z,z_mat)"
      ],
      "metadata": {
        "colab": {
          "base_uri": "https://localhost:8080/"
        },
        "id": "CZhVzTiVQBDY",
        "outputId": "6f073afe-a8a0-46a4-a580-0712d7a19f8d"
      },
      "execution_count": 65,
      "outputs": [
        {
          "output_type": "execute_result",
          "data": {
            "text/plain": [
              "True"
            ]
          },
          "metadata": {},
          "execution_count": 65
        }
      ]
    }
  ]
}