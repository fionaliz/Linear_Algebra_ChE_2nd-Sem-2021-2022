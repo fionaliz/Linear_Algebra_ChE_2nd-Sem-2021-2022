{
  "nbformat": 4,
  "nbformat_minor": 0,
  "metadata": {
    "colab": {
      "name": "Assignment 3",
      "provenance": [],
      "collapsed_sections": [],
      "authorship_tag": "ABX9TyNqFWaMVwZirvgzbMhj2dgR",
      "include_colab_link": true
    },
    "kernelspec": {
      "name": "python3",
      "display_name": "Python 3"
    },
    "language_info": {
      "name": "python"
    }
  },
  "cells": [
    {
      "cell_type": "markdown",
      "metadata": {
        "id": "view-in-github",
        "colab_type": "text"
      },
      "source": [
        "<a href=\"https://colab.research.google.com/github/fionaliz/Linear_Algebra_ChE_2nd-Sem-2021-2022/blob/main/Assignment_3.ipynb\" target=\"_parent\"><img src=\"https://colab.research.google.com/assets/colab-badge.svg\" alt=\"Open In Colab\"/></a>"
      ]
    },
    {
      "cell_type": "markdown",
      "source": [
        "# Linear Algebra fo ChE \n",
        "## Assignment 3 : Matrices \n",
        " "
      ],
      "metadata": {
        "id": "5gZQicmgKVwp"
      }
    },
    {
      "cell_type": "markdown",
      "source": [
        "Objectives \n"
      ],
      "metadata": {
        "id": "mZCrnH6cKwAG"
      }
    },
    {
      "cell_type": "markdown",
      "source": [
        "## Objectives\n",
        "At the end of this laboratory activity,the students will be able to:\n",
        "1. Familiarize the properties of matrix and apply it in writing and working with linear equations.\n",
        "2. Perform basic matrix operations and classify matrices according to shape and element values.\n",
        "3. Represent equations in matrices using the Python programming.\n"
      ],
      "metadata": {
        "id": "Uzxx3QkEimZU"
      }
    },
    {
      "cell_type": "markdown",
      "source": [
        ""
      ],
      "metadata": {
        "id": "v7glmXkqANg8"
      }
    },
    {
      "cell_type": "markdown",
      "source": [
        "# Discussion "
      ],
      "metadata": {
        "id": "QfxhylSfK0bT"
      }
    },
    {
      "cell_type": "code",
      "source": [
        "import numpy as np \n",
        "import matplotlib.pyplot as plt \n",
        "import scipy.linalg as la \n",
        "%matplotlib inline \n"
      ],
      "metadata": {
        "id": "kEYYs9HtK2Co"
      },
      "execution_count": 15,
      "outputs": []
    },
    {
      "cell_type": "markdown",
      "source": [
        "# Matrices "
      ],
      "metadata": {
        "id": "o6RWfrosLOMV"
      }
    },
    {
      "cell_type": "markdown",
      "source": [
        "Matrices is a rectangular collection of elements or array, arranged in rows and columns. The horizontal and vertical line entries in a matrix are called as rows and columns, represented by *m* and *n* in an *m* *x* *n* matrix."
      ],
      "metadata": {
        "id": "vpZZjiCIjAaS"
      }
    },
    {
      "cell_type": "markdown",
      "source": [
        "Let's say we have the equation ***A***, ***B***, and ***C*** "
      ],
      "metadata": {
        "id": "dPW2oPbdNhmG"
      }
    },
    {
      "cell_type": "markdown",
      "source": [
        "$$\n",
        "A = \\left\\{\n",
        "    \\begin{array}\\\n",
        "        x + y \\\\ \n",
        "        8x - 14y\n",
        "    \\end{array}\n",
        "\\right. \\\\\n",
        "B = \\left\\{\n",
        "    \\begin{array}\\\n",
        "        x+y+z \\\\ \n",
        "        8x -14y -z \\\\\n",
        "        -x + 8y +14z\n",
        "    \\end{array}\n",
        "\\right. \\\\\n",
        "C= \\left\\{\n",
        "    \\begin{array}\n",
        "         1w - 1x + 14y -35z \\\\ \n",
        "         3w + 8x - 11y + z \\\\\n",
        "         2w - 8x + 2y -2z\n",
        "    \\end{array}\n",
        "\\right. \\\\\n",
        "$$\n"
      ],
      "metadata": {
        "id": "xJozwM_GL37W"
      }
    },
    {
      "cell_type": "markdown",
      "source": [
        "*A* is a system of 2 equations with 2 parameters. While *B* is a system of 3 equations with 3 parameters and *C* is a system of 4 equations with 4 parameters. We can represent them in matrices as:\n"
      ],
      "metadata": {
        "id": "uDWnxsATONTv"
      }
    },
    {
      "cell_type": "markdown",
      "source": [
        "$$\n",
        "A=\\begin{bmatrix} 1 & 1 \\\\ 8 & {-14}\\end{bmatrix} \\\\\n",
        "B=\\begin{bmatrix} 1 & 1 & 1 \\\\ 8 & -14 & -1 \\\\ -1 & 8 & 14\\end{bmatrix}\\\\\n",
        "C=\\begin{bmatrix} 1 & -1 & 14 & -35 \\\\ 3 & 8 & -11 & 1 \\\\ 2 & -8 & 2 & -2 \\end{bmatrix}\\\\\n",
        "$$"
      ],
      "metadata": {
        "id": "y3haUXVKOePr"
      }
    },
    {
      "cell_type": "markdown",
      "source": [
        "## Declaring Matrices "
      ],
      "metadata": {
        "id": "jVui5x7oPzdl"
      }
    },
    {
      "cell_type": "markdown",
      "source": [
        "The numbers in matrices are called the elements of a matrix, arranged in rows and columns that form the array-like structure. These elements are indexed according to their position with respect to their rows and columns. From the equation below, *A* is a matrix consisting of elements denoted as *ai*,*j*. The *i* is the number of rows in the matrix while *j* is the number of columns.\n",
        " \n"
      ],
      "metadata": {
        "id": "MH-zKUjmP2yC"
      }
    },
    {
      "cell_type": "markdown",
      "source": [
        "$$A=\\begin{bmatrix}\n",
        "a_{(0,0)}&a_{(0,1)}&\\dots&a_{(0,j-1)}\\\\\n",
        "a_{(1,0)}&a_{(1,1)}&\\dots&a_{(1,j-1)}\\\\\n",
        "\\vdots&\\vdots&\\ddots&\\vdots&\\\\\n",
        "a_{(i-1,0)}&a_{(i-1,1)}&\\dots&a_{(i-1,j-1)}\n",
        "\\end{bmatrix}\n",
        "$$\n"
      ],
      "metadata": {
        "id": "qdQwP6s_QChG"
      }
    },
    {
      "cell_type": "code",
      "source": [
        "## Since we'll keep on describing matrices. let's make a function. \n",
        "def describe_mat(matrix):\n",
        "    print(f'Matrix:\\n{matrix}\\n\\nShape:\\t{matrix.shape}\\nRank:\\t{matrix.ndim}\\n')"
      ],
      "metadata": {
        "id": "mEIAFCDmQSwj"
      },
      "execution_count": 16,
      "outputs": []
    },
    {
      "cell_type": "code",
      "source": [
        "## Declaring a 2 x 2 matrix \n",
        "A = np.array([\n",
        "     [8, 7],\n",
        "     [6, 8]        \n",
        "])\n",
        "describe_mat(A)"
      ],
      "metadata": {
        "colab": {
          "base_uri": "https://localhost:8080/"
        },
        "id": "CEQL1KUjQrEh",
        "outputId": "3f5d061e-8b06-4989-dfbb-b330b071b128"
      },
      "execution_count": 17,
      "outputs": [
        {
          "output_type": "stream",
          "name": "stdout",
          "text": [
            "Matrix:\n",
            "[[8 7]\n",
            " [6 8]]\n",
            "\n",
            "Shape:\t(2, 2)\n",
            "Rank:\t2\n",
            "\n"
          ]
        }
      ]
    },
    {
      "cell_type": "code",
      "source": [
        "G = np.array([\n",
        "    [8,8,6],\n",
        "    [4,4,7]\n",
        "])\n",
        "describe_mat(G)\n"
      ],
      "metadata": {
        "colab": {
          "base_uri": "https://localhost:8080/"
        },
        "id": "b9_A4kYWRAlQ",
        "outputId": "f730b08b-ce2d-4370-f412-494fb1e8de66"
      },
      "execution_count": 18,
      "outputs": [
        {
          "output_type": "stream",
          "name": "stdout",
          "text": [
            "Matrix:\n",
            "[[8 8 6]\n",
            " [4 4 7]]\n",
            "\n",
            "Shape:\t(2, 3)\n",
            "Rank:\t2\n",
            "\n"
          ]
        }
      ]
    },
    {
      "cell_type": "code",
      "source": [
        "## Declaring a 3 x 2 matrix\n",
        "B = np.array([\n",
        "    [9, 2],\n",
        "    [6, 5],\n",
        "    [4, 4]\n",
        "])\n",
        "describe_mat(B)\n"
      ],
      "metadata": {
        "colab": {
          "base_uri": "https://localhost:8080/"
        },
        "id": "hxSoZl4VSRwM",
        "outputId": "0c6363cb-054f-4f20-eed3-a7fb542aaf6b"
      },
      "execution_count": 19,
      "outputs": [
        {
          "output_type": "stream",
          "name": "stdout",
          "text": [
            "Matrix:\n",
            "[[9 2]\n",
            " [6 5]\n",
            " [4 4]]\n",
            "\n",
            "Shape:\t(3, 2)\n",
            "Rank:\t2\n",
            "\n"
          ]
        }
      ]
    },
    {
      "cell_type": "code",
      "source": [
        "H = np.array([16,17,18,19])\n",
        "describe_mat(H)\n"
      ],
      "metadata": {
        "colab": {
          "base_uri": "https://localhost:8080/"
        },
        "id": "qac_qBUOSfcE",
        "outputId": "cb4c6405-edf4-4652-fa0b-750ad4d4bff0"
      },
      "execution_count": 20,
      "outputs": [
        {
          "output_type": "stream",
          "name": "stdout",
          "text": [
            "Matrix:\n",
            "[16 17 18 19]\n",
            "\n",
            "Shape:\t(4,)\n",
            "Rank:\t1\n",
            "\n"
          ]
        }
      ]
    },
    {
      "cell_type": "markdown",
      "source": [
        "# Categorizing Matrices  "
      ],
      "metadata": {
        "id": "0LkZQS0hSpK_"
      }
    },
    {
      "cell_type": "markdown",
      "source": [
        "Classifying matrices could be according to their shape and another is according to their element values."
      ],
      "metadata": {
        "id": "45woAwSiTNmO"
      }
    },
    {
      "cell_type": "markdown",
      "source": [
        "## According to shape "
      ],
      "metadata": {
        "id": "zwt2EKVzTWwB"
      }
    },
    {
      "cell_type": "markdown",
      "source": [
        "### Row and Column Matrices"
      ],
      "metadata": {
        "id": "kBycPoGjTaXH"
      }
    },
    {
      "cell_type": "markdown",
      "source": [
        "A row vector (or, row matrix) is a 1-by-*n* matrix. While a column vector (or, column matrix) is a *n*-by-1 matrix. "
      ],
      "metadata": {
        "id": "UtAgleYR3oxl"
      }
    },
    {
      "cell_type": "code",
      "source": [
        "## Declaring a Row Matrix\n",
        "\n",
        "row_mat_1D = np.array([\n",
        "    4, 5, 6, -7\n",
        "]) ## this is a 1-D Matrix with a shape of (3,), it's not really considered as a row matrix.\n",
        "row_mat_2D = np.array([\n",
        "    [4,5,6,-7]\n",
        "]) ## this is a 2-D Matrix with a shape of (1,3)\n",
        "describe_mat(row_mat_1D)\n",
        "describe_mat(row_mat_2D)"
      ],
      "metadata": {
        "colab": {
          "base_uri": "https://localhost:8080/"
        },
        "id": "EoJN4xBS4Zf3",
        "outputId": "49836466-1566-4969-e720-7174421c1924"
      },
      "execution_count": 21,
      "outputs": [
        {
          "output_type": "stream",
          "name": "stdout",
          "text": [
            "Matrix:\n",
            "[ 4  5  6 -7]\n",
            "\n",
            "Shape:\t(4,)\n",
            "Rank:\t1\n",
            "\n",
            "Matrix:\n",
            "[[ 4  5  6 -7]]\n",
            "\n",
            "Shape:\t(1, 4)\n",
            "Rank:\t2\n",
            "\n"
          ]
        }
      ]
    },
    {
      "cell_type": "code",
      "source": [
        "## declaring of column matrix \n",
        "col_mat = np.array([\n",
        "    [11],\n",
        "    [22],\n",
        "    [55]\n",
        "]) ## this is a 2-D Matrix with a shape of (3,1)\n",
        "describe_mat(col_mat)\n"
      ],
      "metadata": {
        "colab": {
          "base_uri": "https://localhost:8080/"
        },
        "id": "Fj5mOUIHUg9Q",
        "outputId": "5c6db6a9-0893-497e-9345-66576519f246"
      },
      "execution_count": 22,
      "outputs": [
        {
          "output_type": "stream",
          "name": "stdout",
          "text": [
            "Matrix:\n",
            "[[11]\n",
            " [22]\n",
            " [55]]\n",
            "\n",
            "Shape:\t(3, 1)\n",
            "Rank:\t2\n",
            "\n"
          ]
        }
      ]
    },
    {
      "cell_type": "markdown",
      "source": [
        "### Square Matrix"
      ],
      "metadata": {
        "id": "n_8_QbNdVKig"
      }
    },
    {
      "cell_type": "markdown",
      "source": [
        "Square matrix is a matrix that has equal numbers of row and column sizes. "
      ],
      "metadata": {
        "id": "TmyEf43Z42jJ"
      }
    },
    {
      "cell_type": "code",
      "source": [
        "def describe_mat(matrix):\n",
        "    is_square = True if matrix.shape[0] == matrix.shape[1] else False \n",
        "    print(f'Matrix:\\n{matrix}\\n\\nShape:\\t{matrix.shape}\\nRank:\\t{matrix.ndim}\\nIs Square: {is_square}\\n')\n"
      ],
      "metadata": {
        "id": "TTC0l37OVPCX"
      },
      "execution_count": 23,
      "outputs": []
    },
    {
      "cell_type": "code",
      "source": [
        "square_mat = np.array([\n",
        "    [4,8,9],\n",
        "    [6,6,7],\n",
        "    [6,1,2]\n",
        "])\n",
        "\n",
        "non_square_mat = np.array([\n",
        "    [4,8,9],\n",
        "    [6,6,7]\n",
        "])\n",
        "describe_mat(square_mat)\n",
        "describe_mat(non_square_mat)\n"
      ],
      "metadata": {
        "id": "WWSZLDp-VWDk",
        "colab": {
          "base_uri": "https://localhost:8080/"
        },
        "outputId": "f71013f8-9fca-48c4-91f7-6ab560fcdc63"
      },
      "execution_count": 24,
      "outputs": [
        {
          "output_type": "stream",
          "name": "stdout",
          "text": [
            "Matrix:\n",
            "[[4 8 9]\n",
            " [6 6 7]\n",
            " [6 1 2]]\n",
            "\n",
            "Shape:\t(3, 3)\n",
            "Rank:\t2\n",
            "Is Square: True\n",
            "\n",
            "Matrix:\n",
            "[[4 8 9]\n",
            " [6 6 7]]\n",
            "\n",
            "Shape:\t(2, 3)\n",
            "Rank:\t2\n",
            "Is Square: False\n",
            "\n"
          ]
        }
      ]
    },
    {
      "cell_type": "markdown",
      "source": [
        "## Accrding to element values"
      ],
      "metadata": {
        "id": "Urlonu8hvAT7"
      }
    },
    {
      "cell_type": "markdown",
      "source": [
        "## Null Matrix"
      ],
      "metadata": {
        "id": "BFsC8MRqvDXt"
      }
    },
    {
      "cell_type": "markdown",
      "source": [
        "Null Matrix is a matrix that has no elements."
      ],
      "metadata": {
        "id": "RYV2h37w5A7Z"
      }
    },
    {
      "cell_type": "code",
      "source": [
        "def describe_mat(matrix):\n",
        "    if matrix.size > 0:\n",
        "        is_square = True if matrix.shape[0] == matrix.shape[1] else False \n",
        "        print(f'Matrix:\\n{matrix}\\n\\nShape:\\t{matrix.shape}\\nRank:\\t{matrix.ndim}\\nIs Square: {is_square}\\n')\n",
        "    else:\n",
        "        print('Matrix is Null')\n"
      ],
      "metadata": {
        "id": "fjAQGdj_WgxB"
      },
      "execution_count": 25,
      "outputs": []
    },
    {
      "cell_type": "code",
      "source": [
        "null_mat = np.array([])\n",
        "describe_mat(null_mat)\n"
      ],
      "metadata": {
        "id": "O_auvj3hWZAP",
        "colab": {
          "base_uri": "https://localhost:8080/"
        },
        "outputId": "1d46bc3e-44e3-4b9e-e97a-059b0b0ca86f"
      },
      "execution_count": 26,
      "outputs": [
        {
          "output_type": "stream",
          "name": "stdout",
          "text": [
            "Matrix is Null\n"
          ]
        }
      ]
    },
    {
      "cell_type": "markdown",
      "source": [
        "## Zero Matrix"
      ],
      "metadata": {
        "id": "OtI14fHNWv5B"
      }
    },
    {
      "cell_type": "markdown",
      "source": [
        "Zero matrix is a matrix whose all elements is zero."
      ],
      "metadata": {
        "id": "RzR9TWDnXOrZ"
      }
    },
    {
      "cell_type": "code",
      "source": [
        "zero_mat_row = np.zeros((4,5))\n",
        "zero_mat_sqr = np.zeros((5,5))\n",
        "zero_mat_rct = np.zeros((6,5))\n",
        "\n",
        "print(f'Zero Row Matrix: \\n{zero_mat_row}')\n",
        "print(f'Zero Square Matrix: \\n{zero_mat_sqr}')\n",
        "print(f'Zero Rectangular Matrix: \\n{zero_mat_rct}')\n"
      ],
      "metadata": {
        "colab": {
          "base_uri": "https://localhost:8080/"
        },
        "id": "F-QvIqXqXQ1v",
        "outputId": "d2f62e47-0a87-457b-dd37-fdfa7ced7f6f"
      },
      "execution_count": 27,
      "outputs": [
        {
          "output_type": "stream",
          "name": "stdout",
          "text": [
            "Zero Row Matrix: \n",
            "[[0. 0. 0. 0. 0.]\n",
            " [0. 0. 0. 0. 0.]\n",
            " [0. 0. 0. 0. 0.]\n",
            " [0. 0. 0. 0. 0.]]\n",
            "Zero Square Matrix: \n",
            "[[0. 0. 0. 0. 0.]\n",
            " [0. 0. 0. 0. 0.]\n",
            " [0. 0. 0. 0. 0.]\n",
            " [0. 0. 0. 0. 0.]\n",
            " [0. 0. 0. 0. 0.]]\n",
            "Zero Rectangular Matrix: \n",
            "[[0. 0. 0. 0. 0.]\n",
            " [0. 0. 0. 0. 0.]\n",
            " [0. 0. 0. 0. 0.]\n",
            " [0. 0. 0. 0. 0.]\n",
            " [0. 0. 0. 0. 0.]\n",
            " [0. 0. 0. 0. 0.]]\n"
          ]
        }
      ]
    },
    {
      "cell_type": "markdown",
      "source": [
        "## Ones Matrix"
      ],
      "metadata": {
        "id": "BXJyQaobXnUQ"
      }
    },
    {
      "cell_type": "markdown",
      "source": [
        "Ones matrix is a matrix whose all elements is one."
      ],
      "metadata": {
        "id": "IzlBFqK55Md5"
      }
    },
    {
      "cell_type": "code",
      "source": [
        "ones_mat_row = np.ones((1,2))\n",
        "ones_mat_sqr = np.ones((2,2))\n",
        "ones_mat_rct = np.ones((3,2))\n",
        "\n",
        "print(f'Ones Row Matrix: \\n{ones_mat_row}')\n",
        "print(f'Ones Square Matrix: \\n{ones_mat_sqr}')\n",
        "print(f'Ones Rectangular Matrix: \\n{ones_mat_rct}')\n"
      ],
      "metadata": {
        "colab": {
          "base_uri": "https://localhost:8080/"
        },
        "id": "gnMgYz3_XpKq",
        "outputId": "f095dd3c-18be-4a09-9422-563c6d9a4005"
      },
      "execution_count": 28,
      "outputs": [
        {
          "output_type": "stream",
          "name": "stdout",
          "text": [
            "Ones Row Matrix: \n",
            "[[1. 1.]]\n",
            "Ones Square Matrix: \n",
            "[[1. 1.]\n",
            " [1. 1.]]\n",
            "Ones Rectangular Matrix: \n",
            "[[1. 1.]\n",
            " [1. 1.]\n",
            " [1. 1.]]\n"
          ]
        }
      ]
    },
    {
      "cell_type": "markdown",
      "source": [
        "## Diagonal Matrix"
      ],
      "metadata": {
        "id": "TPM_X1KPX5YL"
      }
    },
    {
      "cell_type": "markdown",
      "source": [
        "Diagonal Matrix is a square matrix whose all elements is zero except for those in the diagonal. "
      ],
      "metadata": {
        "id": "EZDqvGSS5QtP"
      }
    },
    {
      "cell_type": "code",
      "source": [
        "np.array([\n",
        "    [4,1,1],\n",
        "    [1,6,1],\n",
        "    [1,1,8]\n",
        "])\n",
        "# a[1,1], a[2,2], a[3,3], ... a[n-1,n-1]"
      ],
      "metadata": {
        "colab": {
          "base_uri": "https://localhost:8080/"
        },
        "id": "peqqhYLXX8R0",
        "outputId": "e2a196b7-bb1e-403a-9d49-d17427597d1d"
      },
      "execution_count": 29,
      "outputs": [
        {
          "output_type": "execute_result",
          "data": {
            "text/plain": [
              "array([[4, 1, 1],\n",
              "       [1, 6, 1],\n",
              "       [1, 1, 8]])"
            ]
          },
          "metadata": {},
          "execution_count": 29
        }
      ]
    },
    {
      "cell_type": "code",
      "source": [
        "d = np.diag([22,33,55,77])\n",
        "np.diag(d).shape == d.shape[0] == d.shape[1]"
      ],
      "metadata": {
        "colab": {
          "base_uri": "https://localhost:8080/"
        },
        "id": "TqxmwA-xYDrS",
        "outputId": "e9abe55d-a5b6-42bf-babd-df44ac20fc12"
      },
      "execution_count": 30,
      "outputs": [
        {
          "output_type": "execute_result",
          "data": {
            "text/plain": [
              "False"
            ]
          },
          "metadata": {},
          "execution_count": 30
        }
      ]
    },
    {
      "cell_type": "markdown",
      "source": [
        "## Identity Matrix"
      ],
      "metadata": {
        "id": "wV1smLLtYsmt"
      }
    },
    {
      "cell_type": "markdown",
      "source": [
        "Identity matrix is a diagonal matrix in which the values at the diagonal are one."
      ],
      "metadata": {
        "id": "6PLz70aM5YSw"
      }
    },
    {
      "cell_type": "code",
      "source": [
        "np.eye(3)\n"
      ],
      "metadata": {
        "colab": {
          "base_uri": "https://localhost:8080/"
        },
        "id": "P2Q8RSwTYvgW",
        "outputId": "08fe0c21-02fc-4214-b067-033b5c82f3fd"
      },
      "execution_count": 31,
      "outputs": [
        {
          "output_type": "execute_result",
          "data": {
            "text/plain": [
              "array([[1., 0., 0.],\n",
              "       [0., 1., 0.],\n",
              "       [0., 0., 1.]])"
            ]
          },
          "metadata": {},
          "execution_count": 31
        }
      ]
    },
    {
      "cell_type": "code",
      "source": [
        "np.identity(10)\n"
      ],
      "metadata": {
        "colab": {
          "base_uri": "https://localhost:8080/"
        },
        "id": "0uL6DDNGZAot",
        "outputId": "cec847e2-16b6-4ba8-81b6-20c7101a20a9"
      },
      "execution_count": 32,
      "outputs": [
        {
          "output_type": "execute_result",
          "data": {
            "text/plain": [
              "array([[1., 0., 0., 0., 0., 0., 0., 0., 0., 0.],\n",
              "       [0., 1., 0., 0., 0., 0., 0., 0., 0., 0.],\n",
              "       [0., 0., 1., 0., 0., 0., 0., 0., 0., 0.],\n",
              "       [0., 0., 0., 1., 0., 0., 0., 0., 0., 0.],\n",
              "       [0., 0., 0., 0., 1., 0., 0., 0., 0., 0.],\n",
              "       [0., 0., 0., 0., 0., 1., 0., 0., 0., 0.],\n",
              "       [0., 0., 0., 0., 0., 0., 1., 0., 0., 0.],\n",
              "       [0., 0., 0., 0., 0., 0., 0., 1., 0., 0.],\n",
              "       [0., 0., 0., 0., 0., 0., 0., 0., 1., 0.],\n",
              "       [0., 0., 0., 0., 0., 0., 0., 0., 0., 1.]])"
            ]
          },
          "metadata": {},
          "execution_count": 32
        }
      ]
    },
    {
      "cell_type": "markdown",
      "source": [
        "## Upper triangular Matrix"
      ],
      "metadata": {
        "id": "LkI4ZYo-ZMcd"
      }
    },
    {
      "cell_type": "markdown",
      "source": [
        "Upper Triangular Matrix has a values of zero below the diagonal of the matrix."
      ],
      "metadata": {
        "id": "e-SqXdiV5eAc"
      }
    },
    {
      "cell_type": "code",
      "source": [
        "np.array([\n",
        "    [1,2,3,4],\n",
        "    [0,3,1,-1],\n",
        "    [0,0,5,2],\n",
        "    [0,0,0,2]\n",
        "])\n"
      ],
      "metadata": {
        "colab": {
          "base_uri": "https://localhost:8080/"
        },
        "id": "oAZ-Yz50ZQE-",
        "outputId": "ff498137-366a-493b-e39b-2f0229bf07f9"
      },
      "execution_count": 33,
      "outputs": [
        {
          "output_type": "execute_result",
          "data": {
            "text/plain": [
              "array([[ 1,  2,  3,  4],\n",
              "       [ 0,  3,  1, -1],\n",
              "       [ 0,  0,  5,  2],\n",
              "       [ 0,  0,  0,  2]])"
            ]
          },
          "metadata": {},
          "execution_count": 33
        }
      ]
    },
    {
      "cell_type": "code",
      "source": [
        "F = np.array([\n",
        "              [4,-7,8,-9,10],\n",
        "              [4,-7,8,-9,10],\n",
        "              [4,-7,8,-9,10],\n",
        "              [4,-7,8,-9,10],\n",
        "              [4,-7,8,-9,10],\n",
        "])\n",
        "np.triu(F)"
      ],
      "metadata": {
        "colab": {
          "base_uri": "https://localhost:8080/"
        },
        "id": "durl7z6U5mNU",
        "outputId": "9c88a8b6-3140-48d4-8de1-7b765b1eef87"
      },
      "execution_count": 34,
      "outputs": [
        {
          "output_type": "execute_result",
          "data": {
            "text/plain": [
              "array([[ 4, -7,  8, -9, 10],\n",
              "       [ 0, -7,  8, -9, 10],\n",
              "       [ 0,  0,  8, -9, 10],\n",
              "       [ 0,  0,  0, -9, 10],\n",
              "       [ 0,  0,  0,  0, 10]])"
            ]
          },
          "metadata": {},
          "execution_count": 34
        }
      ]
    },
    {
      "cell_type": "markdown",
      "source": [
        "## Lower Traingular Matrix \n"
      ],
      "metadata": {
        "id": "pJEXioOrynBG"
      }
    },
    {
      "cell_type": "markdown",
      "source": [
        "Lower Triangular Matrix has a values of zero above the diagonal of the matrix."
      ],
      "metadata": {
        "id": "6Sv1P2ez6AaH"
      }
    },
    {
      "cell_type": "code",
      "source": [
        "np.array([\n",
        "    [4,1,1],\n",
        "    [6,4,1],\n",
        "    [8,9,3]\n",
        "])"
      ],
      "metadata": {
        "colab": {
          "base_uri": "https://localhost:8080/"
        },
        "id": "0JEu9V9IZ0OW",
        "outputId": "a87de14e-585b-4642-b385-105944c50d89"
      },
      "execution_count": 35,
      "outputs": [
        {
          "output_type": "execute_result",
          "data": {
            "text/plain": [
              "array([[4, 1, 1],\n",
              "       [6, 4, 1],\n",
              "       [8, 9, 3]])"
            ]
          },
          "metadata": {},
          "execution_count": 35
        }
      ]
    },
    {
      "cell_type": "code",
      "source": [
        "np.tril(F)"
      ],
      "metadata": {
        "colab": {
          "base_uri": "https://localhost:8080/"
        },
        "id": "aJa0fDZ46C_j",
        "outputId": "a223b82f-abe9-4156-a150-3c0e0bfcc497"
      },
      "execution_count": 36,
      "outputs": [
        {
          "output_type": "execute_result",
          "data": {
            "text/plain": [
              "array([[ 4,  0,  0,  0,  0],\n",
              "       [ 4, -7,  0,  0,  0],\n",
              "       [ 4, -7,  8,  0,  0],\n",
              "       [ 4, -7,  8, -9,  0],\n",
              "       [ 4, -7,  8, -9, 10]])"
            ]
          },
          "metadata": {},
          "execution_count": 36
        }
      ]
    },
    {
      "cell_type": "markdown",
      "source": [
        "## Matrix Algebra "
      ],
      "metadata": {
        "id": "52_akYjQ6J8o"
      }
    },
    {
      "cell_type": "markdown",
      "source": [
        "### Addition "
      ],
      "metadata": {
        "id": "ylZeGKRP6M61"
      }
    },
    {
      "cell_type": "code",
      "source": [
        "A = np.array([\n",
        "    [8,4],\n",
        "    [6,7],\n",
        "    [5,6]\n",
        "])\n",
        "B = np.array([\n",
        "    [8,8],\n",
        "    [1,1],\n",
        "    [6,6]\n",
        "])\n",
        "A+B"
      ],
      "metadata": {
        "colab": {
          "base_uri": "https://localhost:8080/"
        },
        "id": "8v_0M2Au6VPw",
        "outputId": "4d1bfe15-bc0a-4a90-ec74-cef433488a86"
      },
      "execution_count": 37,
      "outputs": [
        {
          "output_type": "execute_result",
          "data": {
            "text/plain": [
              "array([[16, 12],\n",
              "       [ 7,  8],\n",
              "       [11, 12]])"
            ]
          },
          "metadata": {},
          "execution_count": 37
        }
      ]
    },
    {
      "cell_type": "code",
      "source": [
        "4+A"
      ],
      "metadata": {
        "colab": {
          "base_uri": "https://localhost:8080/"
        },
        "id": "gNOyi_ul6hy_",
        "outputId": "8da1eb0e-508c-4948-dd73-6a61518653b3"
      },
      "execution_count": 38,
      "outputs": [
        {
          "output_type": "execute_result",
          "data": {
            "text/plain": [
              "array([[12,  8],\n",
              "       [10, 11],\n",
              "       [ 9, 10]])"
            ]
          },
          "metadata": {},
          "execution_count": 38
        }
      ]
    },
    {
      "cell_type": "markdown",
      "source": [
        "### Subtraction "
      ],
      "metadata": {
        "id": "JHgjLfiL6mpg"
      }
    },
    {
      "cell_type": "code",
      "source": [
        "A-B"
      ],
      "metadata": {
        "colab": {
          "base_uri": "https://localhost:8080/"
        },
        "id": "3Owv5Cpu6oiE",
        "outputId": "ef42a30d-8bf4-4bd8-c07a-4c855782bba5"
      },
      "execution_count": 39,
      "outputs": [
        {
          "output_type": "execute_result",
          "data": {
            "text/plain": [
              "array([[ 0, -4],\n",
              "       [ 5,  6],\n",
              "       [-1,  0]])"
            ]
          },
          "metadata": {},
          "execution_count": 39
        }
      ]
    },
    {
      "cell_type": "code",
      "source": [
        "5-B"
      ],
      "metadata": {
        "colab": {
          "base_uri": "https://localhost:8080/"
        },
        "id": "Qv2qG_sy6t46",
        "outputId": "691c9de9-64c0-4904-b1c8-329ffdcc5357"
      },
      "execution_count": 40,
      "outputs": [
        {
          "output_type": "execute_result",
          "data": {
            "text/plain": [
              "array([[-3, -3],\n",
              "       [ 4,  4],\n",
              "       [-1, -1]])"
            ]
          },
          "metadata": {},
          "execution_count": 40
        }
      ]
    },
    {
      "cell_type": "markdown",
      "source": [
        "### Element-wise Multiplication "
      ],
      "metadata": {
        "id": "3OoW1FyR6zU4"
      }
    },
    {
      "cell_type": "code",
      "source": [
        "A*B\n",
        "np.multiply(A,B)"
      ],
      "metadata": {
        "colab": {
          "base_uri": "https://localhost:8080/"
        },
        "id": "udcCwbkk63Xn",
        "outputId": "97d1fffa-e248-4668-cc8a-3fe0a7398f6a"
      },
      "execution_count": 41,
      "outputs": [
        {
          "output_type": "execute_result",
          "data": {
            "text/plain": [
              "array([[64, 32],\n",
              "       [ 6,  7],\n",
              "       [30, 36]])"
            ]
          },
          "metadata": {},
          "execution_count": 41
        }
      ]
    },
    {
      "cell_type": "code",
      "source": [
        "2*A"
      ],
      "metadata": {
        "colab": {
          "base_uri": "https://localhost:8080/"
        },
        "id": "ZhxdZJLa65nf",
        "outputId": "18e2c130-90aa-4a66-9734-44352ef41b3f"
      },
      "execution_count": 42,
      "outputs": [
        {
          "output_type": "execute_result",
          "data": {
            "text/plain": [
              "array([[16,  8],\n",
              "       [12, 14],\n",
              "       [10, 12]])"
            ]
          },
          "metadata": {},
          "execution_count": 42
        }
      ]
    },
    {
      "cell_type": "code",
      "source": [
        "alpha=10**-10\n",
        "A/(alpha+B)"
      ],
      "metadata": {
        "colab": {
          "base_uri": "https://localhost:8080/"
        },
        "id": "NAJMQ6hb67vl",
        "outputId": "87388536-b764-4007-871d-211538c89e1e"
      },
      "execution_count": 43,
      "outputs": [
        {
          "output_type": "execute_result",
          "data": {
            "text/plain": [
              "array([[1.        , 0.5       ],\n",
              "       [6.        , 7.        ],\n",
              "       [0.83333333, 1.        ]])"
            ]
          },
          "metadata": {},
          "execution_count": 43
        }
      ]
    },
    {
      "cell_type": "code",
      "source": [
        "M = np.array([\n",
        "    [8,4],\n",
        "    [6,7],\n",
        "    [5,6]\n",
        "])\n",
        "N = np.array([\n",
        "    [8,8,5],\n",
        "    [1,1,6],\n",
        "])\n",
        "M@N"
      ],
      "metadata": {
        "colab": {
          "base_uri": "https://localhost:8080/"
        },
        "id": "8SLgCtvQ7ATx",
        "outputId": "1f2316dc-ce6c-4619-f9a0-a8e4e7b84044"
      },
      "execution_count": 44,
      "outputs": [
        {
          "output_type": "execute_result",
          "data": {
            "text/plain": [
              "array([[68, 68, 64],\n",
              "       [55, 55, 72],\n",
              "       [46, 46, 61]])"
            ]
          },
          "metadata": {},
          "execution_count": 44
        }
      ]
    },
    {
      "cell_type": "code",
      "source": [
        "np.add(A,B)"
      ],
      "metadata": {
        "colab": {
          "base_uri": "https://localhost:8080/"
        },
        "id": "1DtGVoST7C1v",
        "outputId": "9267be86-882d-4586-a204-98db0df94389"
      },
      "execution_count": 45,
      "outputs": [
        {
          "output_type": "execute_result",
          "data": {
            "text/plain": [
              "array([[16, 12],\n",
              "       [ 7,  8],\n",
              "       [11, 12]])"
            ]
          },
          "metadata": {},
          "execution_count": 45
        }
      ]
    },
    {
      "cell_type": "markdown",
      "source": [
        "**Practice**"
      ],
      "metadata": {
        "id": "bXMM3jJPzGo0"
      }
    },
    {
      "cell_type": "markdown",
      "source": [
        "1. Given the linear combination below, try to create a corresponding matrix representing it."
      ],
      "metadata": {
        "id": "0KejcfRzzJSV"
      }
    },
    {
      "cell_type": "markdown",
      "source": [
        "$$\\theta = 5x + 3y - z$$\n"
      ],
      "metadata": {
        "id": "LtictVaXzL6V"
      }
    },
    {
      "cell_type": "code",
      "source": [
        "num_1 = np.array([\n",
        "    [5,3,-1],\n",
        "])\n",
        "print (num_1)"
      ],
      "metadata": {
        "colab": {
          "base_uri": "https://localhost:8080/"
        },
        "id": "Vi5SvYQAWfkl",
        "outputId": "137f3a1a-f9fe-4fa9-e196-381e5c62a468"
      },
      "execution_count": 55,
      "outputs": [
        {
          "output_type": "stream",
          "name": "stdout",
          "text": [
            "[[ 5  3 -1]]\n"
          ]
        }
      ]
    },
    {
      "cell_type": "markdown",
      "source": [
        "2. Given the system of linear combinations below, try to encode it as a matrix. Also describe the matrix."
      ],
      "metadata": {
        "id": "2408Xn1c0gOJ"
      }
    },
    {
      "cell_type": "markdown",
      "source": [
        "$$\n",
        "A = \\left\\{\\begin{array}\n",
        "5w_1 + 4w_2 +7w_3\\\\\n",
        "6w_2 - 8w_3\\\\\n",
        "12w_3\n",
        "\\end{array}\\right.\n",
        "$$"
      ],
      "metadata": {
        "id": "GwuJ9yLw0HwQ"
      }
    },
    {
      "cell_type": "code",
      "source": [
        "num_2 = np.array([\n",
        "    [1,4,7],\n",
        "    [0,6,-8],\n",
        "    [0,0,0]\n",
        "])\n",
        "describe_mat(num_2)"
      ],
      "metadata": {
        "colab": {
          "base_uri": "https://localhost:8080/"
        },
        "id": "HL-MQL3FWjht",
        "outputId": "cf625744-8544-4987-cabd-beff32b4e1d3"
      },
      "execution_count": 60,
      "outputs": [
        {
          "output_type": "stream",
          "name": "stdout",
          "text": [
            "Matrix:\n",
            "[[ 1  4  7]\n",
            " [ 0  6 -8]\n",
            " [ 0  0  0]]\n",
            "\n",
            "Shape:\t(3, 3)\n",
            "Rank:\t2\n",
            "Is Square: True\n",
            "\n"
          ]
        }
      ]
    },
    {
      "cell_type": "markdown",
      "source": [
        "3. Given the matrix below, express it as a linear combination in a markdown."
      ],
      "metadata": {
        "id": "YlvFlsHY0iru"
      }
    },
    {
      "cell_type": "code",
      "source": [
        "G = np.array ([\n",
        "    [4,6,8],\n",
        "    [5,5,5],\n",
        "    [5,7,9]\n",
        "])"
      ],
      "metadata": {
        "id": "rF1aUBHL0rR_"
      },
      "execution_count": 57,
      "outputs": []
    },
    {
      "cell_type": "markdown",
      "source": [
        "Answer\n",
        "\n",
        "Linear combination\n",
        "$$\n",
        "G = \\left\\{\n",
        "    \\begin{array}\\\n",
        "      4x_1+6x_2+8x_3 \\\\\n",
        "      5x_1+5x_2-5y_3 \\\\\n",
        "      5x_1 + 6x_2 +8x_3\n",
        "    \\end{array}\n",
        "\\right.\n",
        "$$\n",
        "\n",
        "LaTex\n",
        "$$\n",
        "G=\\begin{bmatrix} 4 & 6 & 8 \\\\ 5 & 5 & 5 \\\\ 5 & 7 & 9\\end{bmatrix}\\\\\n",
        "$$"
      ],
      "metadata": {
        "id": "dwagvW3Wfz0p"
      }
    },
    {
      "cell_type": "markdown",
      "source": [
        "4. Given the matrix below, display the output as a LaTeX markdown also express it as a system of linear combinations."
      ],
      "metadata": {
        "id": "_WFCEIJz0vVz"
      }
    },
    {
      "cell_type": "code",
      "source": [
        "H = np.tril(G)\n",
        "H\n"
      ],
      "metadata": {
        "colab": {
          "base_uri": "https://localhost:8080/"
        },
        "id": "sYygIGD00wya",
        "outputId": "07fdee73-e990-4973-d849-f72266a090af"
      },
      "execution_count": 59,
      "outputs": [
        {
          "output_type": "execute_result",
          "data": {
            "text/plain": [
              "array([[4, 0, 0],\n",
              "       [5, 5, 0],\n",
              "       [5, 7, 9]])"
            ]
          },
          "metadata": {},
          "execution_count": 59
        }
      ]
    },
    {
      "cell_type": "markdown",
      "source": [
        "Answer\n",
        "\n",
        "Linear combination\n",
        "$$\n",
        "H = \\left\\{\n",
        "    \\begin{array}\\\n",
        "      4x_1\\\\\n",
        "      5x_1+5x_2\\\\\n",
        "      5x_1 + 7x_2 +9x_3\n",
        "    \\end{array}\n",
        "\\right.\n",
        "$$\n",
        "\n",
        "LaTex\n",
        "$$\n",
        "G=\\begin{bmatrix} 4 & 0 & 0 \\\\ 5 & 5 & 0 \\\\ 5 & 7 & 9\\end{bmatrix}\\\\\n",
        "$$"
      ],
      "metadata": {
        "id": "eKegxMFTgQBR"
      }
    },
    {
      "cell_type": "markdown",
      "source": [
        "# Activity "
      ],
      "metadata": {
        "id": "nK9_Rec_03Wr"
      }
    },
    {
      "cell_type": "markdown",
      "source": [
        "##Task 1"
      ],
      "metadata": {
        "id": "ODogXPly05FB"
      }
    },
    {
      "cell_type": "markdown",
      "source": [
        "Create a function named `mat_desc()` that througouhly describes a matrix, it should: <br>\n",
        "1. Displays the shape, size, and rank of the matrix. <br>\n",
        "2. Displays whether the matrix is square or non-square. <br>\n",
        "3. Displays whether the matrix is an empty matrix. <br>\n",
        "4. Displays if the matrix is an identity, ones, or zeros matrix <br>\n",
        "   \n",
        "Use 5 sample matrices in which their shapes are not lower than $(3,3)$.\n",
        "In your methodology, create a flowchart discuss the functions and methods you have done. Present your results in the results section showing the description of each matrix you have declared."
      ],
      "metadata": {
        "id": "yRlp8B0g07t7"
      }
    },
    {
      "cell_type": "code",
      "source": [
        "# mat_desc function\n",
        "\n",
        "def mat_desc(matrix):\n",
        "  sq = False\n",
        "  matrix = np.array(matrix)\n",
        "  print(matrix)\n",
        "  print('Shape', matrix.shape)\n",
        "  print('Size', matrix.size)\n",
        "  print('Rank', np.linalg.matrix_rank(matrix))\n",
        "  if(matrix.shape[0] == matrix.shape[1]):\n",
        "    sq = True\n",
        "    print('Square Matrix')\n",
        "  else: \n",
        "    print('Non-Square Matrix')\n",
        "  if(matrix.shape[0] == 0 and matrix.shape[1] == 0):\n",
        "    print('Empty Matrix')\n",
        "  else:\n",
        "    print('Matrix in not Empty')\n",
        "  identity = np.identity(matrix.shape[0])\n",
        "  if(sq and (identity == matrix).all()):\n",
        "    print('Identity Matrix')\n",
        "  else:\n",
        "    print('Not an identity matrix')\n",
        "  ones = np.ones((matrix.shape[0], matrix.shape[1]))\n",
        "  if(ones == matrix).all ():\n",
        "    print('Ones matrix')\n",
        "  else:\n",
        "    print('Not a Ones Matrix')\n",
        "  zero = np.zeros((matrix.shape[0], matrix.shape[1]))\n",
        "  if((zero == matrix).all()):\n",
        "    print('Zero Matrix')\n",
        "  else:\n",
        "    print('Non-Zero Matrix')"
      ],
      "metadata": {
        "id": "RCPpBxe3Ag5x"
      },
      "execution_count": 48,
      "outputs": []
    },
    {
      "cell_type": "code",
      "source": [
        "print('Example 1: Matrix A')\n",
        "mat_desc([\n",
        "    [5,1,0],\n",
        "    [1,0,-3],\n",
        "    [4,1,0],\n",
        "    [-2,9,1]\n",
        "]) \n",
        "print(\"\\t\")\n",
        "print('Example 2: Matrix B')\n",
        "mat_desc([\n",
        "    [0,0,0,0],\n",
        "    [0,0,0,0],\n",
        "    [0,0,0,0]\n",
        "])\n",
        "print(\"\\t\")\n",
        "print('Example 3: Matrix C')\n",
        "mat_desc([\n",
        "    [1,1,1,1],\n",
        "    [1,1,1,1],\n",
        "    [1,1,1,1]\n",
        "])\n",
        "print(\"\\t\")\n",
        "print('Matrix 4: Matrix D')\n",
        "mat_desc([\n",
        "    [1,0,0,0],\n",
        "    [0,1,0,0],\n",
        "    [0,0,1,0],\n",
        "    [0,0,0,1]\n",
        "])\n",
        "print(\"\\t\")\n",
        "print('Example 5: Matrix E')\n",
        "mat_desc([\n",
        "    [1,2,3,0,-6],\n",
        "    [0,4,-1,5,-11],\n",
        "    [-3,1,2,0,-5],\n",
        "    [10,0,3,6,1]\n",
        "])"
      ],
      "metadata": {
        "colab": {
          "base_uri": "https://localhost:8080/"
        },
        "id": "Tn6Po1FzAjop",
        "outputId": "f5c0e08a-5d35-474e-ce71-e288332d1b75"
      },
      "execution_count": 50,
      "outputs": [
        {
          "output_type": "stream",
          "name": "stdout",
          "text": [
            "Example 1: Matrix A\n",
            "[[ 5  1  0]\n",
            " [ 1  0 -3]\n",
            " [ 4  1  0]\n",
            " [-2  9  1]]\n",
            "Shape (4, 3)\n",
            "Size 12\n",
            "Rank 3\n",
            "Non-Square Matrix\n",
            "Matrix in not Empty\n",
            "Not an identity matrix\n",
            "Not a Ones Matrix\n",
            "Non-Zero Matrix\n",
            "\t\n",
            "Example 2: Matrix B\n",
            "[[0 0 0 0]\n",
            " [0 0 0 0]\n",
            " [0 0 0 0]]\n",
            "Shape (3, 4)\n",
            "Size 12\n",
            "Rank 0\n",
            "Non-Square Matrix\n",
            "Matrix in not Empty\n",
            "Not an identity matrix\n",
            "Not a Ones Matrix\n",
            "Zero Matrix\n",
            "\t\n",
            "Example 3: Matrix C\n",
            "[[1 1 1 1]\n",
            " [1 1 1 1]\n",
            " [1 1 1 1]]\n",
            "Shape (3, 4)\n",
            "Size 12\n",
            "Rank 1\n",
            "Non-Square Matrix\n",
            "Matrix in not Empty\n",
            "Not an identity matrix\n",
            "Ones matrix\n",
            "Non-Zero Matrix\n",
            "\t\n",
            "Matrix 4: Matrix D\n",
            "[[1 0 0 0]\n",
            " [0 1 0 0]\n",
            " [0 0 1 0]\n",
            " [0 0 0 1]]\n",
            "Shape (4, 4)\n",
            "Size 16\n",
            "Rank 4\n",
            "Square Matrix\n",
            "Matrix in not Empty\n",
            "Identity Matrix\n",
            "Not a Ones Matrix\n",
            "Non-Zero Matrix\n",
            "\t\n",
            "Example 5: Matrix E\n",
            "[[  1   2   3   0  -6]\n",
            " [  0   4  -1   5 -11]\n",
            " [ -3   1   2   0  -5]\n",
            " [ 10   0   3   6   1]]\n",
            "Shape (4, 5)\n",
            "Size 20\n",
            "Rank 4\n",
            "Non-Square Matrix\n",
            "Matrix in not Empty\n",
            "Not an identity matrix\n",
            "Not a Ones Matrix\n",
            "Non-Zero Matrix\n"
          ]
        }
      ]
    },
    {
      "cell_type": "markdown",
      "source": [
        "## Task 2"
      ],
      "metadata": {
        "id": "F9JiKqlC1i9I"
      }
    },
    {
      "cell_type": "markdown",
      "source": [
        "Create a function named Create a function named `mat_operations()` that takes in two matrices a input parameters it should:<br>\n",
        "\n",
        "1. Determines if the matrices are viable for operation and returns your own error message if they are not viable.\n",
        "2. Returns the sum of the matrices.\n",
        "3. Returns the differen of the matrices.\n",
        "4. Returns the element-wise multiplication of the matrices.\n",
        "5. Returns the element-wise division of the matrices.\n",
        "\n",
        "\n",
        "Use 5 sample matrices in which their shapes are not lower than  $(3,3)$ . In your methodology, create a flowchart discuss the functions and methods you have done. Present your results in the results section showing the description of each matrix you have declared.\n",
        "\n"
      ],
      "metadata": {
        "id": "vQsrjo4k1k77"
      }
    },
    {
      "cell_type": "code",
      "source": [
        "#mat_operations function\n",
        "MatrixA \n",
        "def mat_operations(matrixA, matrixB):\n",
        "    matrixA = np.array(matrixA)\n",
        "    matrixB = np.array(matrixB)\n",
        "    print('Matrix A:', matrixA)\n",
        "    print('Matrix B:', matrixB)\n",
        "    if(matrixA.shape != matrixB.shape):\n",
        "        print('The dimensions of the two matrices are not equal. Operation Error.')\n",
        "        return\n",
        "    print('Sum Matrix A and Matrix B:')\n",
        "    matrixsum = matrixA + matrixB\n",
        "    print(matrixsum)\n",
        "    print('Difference of Matrix A and Matrix B:')\n",
        "    matrixdiff = matrixA - matrixB\n",
        "    print(matrixdiff)\n",
        "    print('Element-wise multiplication of Matrix A and Matrix B:')\n",
        "    matrixmulti = np.multiply(matrixA, matrixB)\n",
        "    print(matrixmulti)\n",
        "    print('Element-wise division of Matrix A and Matrix B:')\n",
        "    matrixdiv = np.divide(matrixA, matrixB)\n",
        "    print(matrixdiv)"
      ],
      "metadata": {
        "id": "iiymnJ2sMGfe"
      },
      "execution_count": 53,
      "outputs": []
    },
    {
      "cell_type": "code",
      "source": [
        "print('Example 1:')\n",
        "MatrixA = np.array([\n",
        "              [4,6,8],\n",
        "              [5,5,5],\n",
        "              [5,7,9]\n",
        "])\n",
        "MatrixB = np.array([\n",
        "              [-1,2,-3],\n",
        "              [4,5,6],\n",
        "              [-7,-8,9]\n",
        "])\n",
        "mat_operations(MatrixA,MatrixB)\n",
        "print(\"\\t\") \n",
        "print('Example 2:')\n",
        "MatrixA = np.array ([\n",
        "             [5,1,12,11],\n",
        "             [-1,-2,3,5],\n",
        "             [5,7,9,7],\n",
        "             [8,1,13,-4]\n",
        "])\n",
        "MatrixB = np.array([\n",
        "              [-1,5,2,-3],\n",
        "              [4,10,5,6],\n",
        "              [-7,13,-8,9],\n",
        "              [17,-17,5,3]\n",
        "])\n",
        "mat_operations(MatrixA,MatrixB)\n",
        "print(\"\\t\") \n",
        "print('Example 3:')\n",
        "MatrixA = np.array ([\n",
        "             [3,1,12,11,5],\n",
        "             [-1,2,3,3,1],\n",
        "             [5,7,9,10,-1],\n",
        "])\n",
        "MatrixB = np.array([\n",
        "              [1,9,2,3,1],\n",
        "              [4,-10,-5,6,1],\n",
        "              [7,13,8,9,1],\n",
        "])\n",
        "mat_operations(MatrixA,MatrixB)\n",
        "print(\"\\t\") \n",
        "print('Example 4:')\n",
        "MatrixA = np.array ([\n",
        "             [8,1,12,11,5],\n",
        "             [-1,2,4,7,1],\n",
        "             [5,7,9,10,-1],\n",
        "             [3,19,-13,11,1]\n",
        "])\n",
        "MatrixB = np.array([\n",
        "              [1,8,2,3,1],\n",
        "              [4,-10,-5,6,1],\n",
        "              [7,13,8,9,1],\n",
        "              [-1,13,2,3,1]\n",
        "])\n",
        "mat_operations(MatrixA,MatrixB)\n",
        "print(\"\\t\") \n",
        "print('Example 5:')\n",
        "MatrixA = np.array ([\n",
        "             [1,1,12,11,2,4],\n",
        "             [-1,2,2,-4,1,3],\n",
        "             [5,7,9,10,-1,2],\n",
        "])\n",
        "MatrixB = np.array([\n",
        "              [1,12,2,3,1,4],\n",
        "              [4,-10,-5,6,1,3],\n",
        "              [7,13,8,9,1,2],\n",
        "])\n",
        "mat_operations(MatrixA,MatrixB)"
      ],
      "metadata": {
        "colab": {
          "base_uri": "https://localhost:8080/"
        },
        "id": "5oNGSQepMMu9",
        "outputId": "b7b8bf66-249d-4118-977d-050ea2ee9b93"
      },
      "execution_count": 54,
      "outputs": [
        {
          "output_type": "stream",
          "name": "stdout",
          "text": [
            "Example 1:\n",
            "Matrix A: [[4 6 8]\n",
            " [5 5 5]\n",
            " [5 7 9]]\n",
            "Matrix B: [[-1  2 -3]\n",
            " [ 4  5  6]\n",
            " [-7 -8  9]]\n",
            "Sum Matrix A and Matrix B:\n",
            "[[ 3  8  5]\n",
            " [ 9 10 11]\n",
            " [-2 -1 18]]\n",
            "Difference of Matrix A and Matrix B:\n",
            "[[ 5  4 11]\n",
            " [ 1  0 -1]\n",
            " [12 15  0]]\n",
            "Element-wise multiplication of Matrix A and Matrix B:\n",
            "[[ -4  12 -24]\n",
            " [ 20  25  30]\n",
            " [-35 -56  81]]\n",
            "Element-wise division of Matrix A and Matrix B:\n",
            "[[-4.          3.         -2.66666667]\n",
            " [ 1.25        1.          0.83333333]\n",
            " [-0.71428571 -0.875       1.        ]]\n",
            "\t\n",
            "Example 2:\n",
            "Matrix A: [[ 5  1 12 11]\n",
            " [-1 -2  3  5]\n",
            " [ 5  7  9  7]\n",
            " [ 8  1 13 -4]]\n",
            "Matrix B: [[ -1   5   2  -3]\n",
            " [  4  10   5   6]\n",
            " [ -7  13  -8   9]\n",
            " [ 17 -17   5   3]]\n",
            "Sum Matrix A and Matrix B:\n",
            "[[  4   6  14   8]\n",
            " [  3   8   8  11]\n",
            " [ -2  20   1  16]\n",
            " [ 25 -16  18  -1]]\n",
            "Difference of Matrix A and Matrix B:\n",
            "[[  6  -4  10  14]\n",
            " [ -5 -12  -2  -1]\n",
            " [ 12  -6  17  -2]\n",
            " [ -9  18   8  -7]]\n",
            "Element-wise multiplication of Matrix A and Matrix B:\n",
            "[[ -5   5  24 -33]\n",
            " [ -4 -20  15  30]\n",
            " [-35  91 -72  63]\n",
            " [136 -17  65 -12]]\n",
            "Element-wise division of Matrix A and Matrix B:\n",
            "[[-5.          0.2         6.         -3.66666667]\n",
            " [-0.25       -0.2         0.6         0.83333333]\n",
            " [-0.71428571  0.53846154 -1.125       0.77777778]\n",
            " [ 0.47058824 -0.05882353  2.6        -1.33333333]]\n",
            "\t\n",
            "Example 3:\n",
            "Matrix A: [[ 3  1 12 11  5]\n",
            " [-1  2  3  3  1]\n",
            " [ 5  7  9 10 -1]]\n",
            "Matrix B: [[  1   9   2   3   1]\n",
            " [  4 -10  -5   6   1]\n",
            " [  7  13   8   9   1]]\n",
            "Sum Matrix A and Matrix B:\n",
            "[[ 4 10 14 14  6]\n",
            " [ 3 -8 -2  9  2]\n",
            " [12 20 17 19  0]]\n",
            "Difference of Matrix A and Matrix B:\n",
            "[[ 2 -8 10  8  4]\n",
            " [-5 12  8 -3  0]\n",
            " [-2 -6  1  1 -2]]\n",
            "Element-wise multiplication of Matrix A and Matrix B:\n",
            "[[  3   9  24  33   5]\n",
            " [ -4 -20 -15  18   1]\n",
            " [ 35  91  72  90  -1]]\n",
            "Element-wise division of Matrix A and Matrix B:\n",
            "[[ 3.          0.11111111  6.          3.66666667  5.        ]\n",
            " [-0.25       -0.2        -0.6         0.5         1.        ]\n",
            " [ 0.71428571  0.53846154  1.125       1.11111111 -1.        ]]\n",
            "\t\n",
            "Example 4:\n",
            "Matrix A: [[  8   1  12  11   5]\n",
            " [ -1   2   4   7   1]\n",
            " [  5   7   9  10  -1]\n",
            " [  3  19 -13  11   1]]\n",
            "Matrix B: [[  1   8   2   3   1]\n",
            " [  4 -10  -5   6   1]\n",
            " [  7  13   8   9   1]\n",
            " [ -1  13   2   3   1]]\n",
            "Sum Matrix A and Matrix B:\n",
            "[[  9   9  14  14   6]\n",
            " [  3  -8  -1  13   2]\n",
            " [ 12  20  17  19   0]\n",
            " [  2  32 -11  14   2]]\n",
            "Difference of Matrix A and Matrix B:\n",
            "[[  7  -7  10   8   4]\n",
            " [ -5  12   9   1   0]\n",
            " [ -2  -6   1   1  -2]\n",
            " [  4   6 -15   8   0]]\n",
            "Element-wise multiplication of Matrix A and Matrix B:\n",
            "[[  8   8  24  33   5]\n",
            " [ -4 -20 -20  42   1]\n",
            " [ 35  91  72  90  -1]\n",
            " [ -3 247 -26  33   1]]\n",
            "Element-wise division of Matrix A and Matrix B:\n",
            "[[ 8.          0.125       6.          3.66666667  5.        ]\n",
            " [-0.25       -0.2        -0.8         1.16666667  1.        ]\n",
            " [ 0.71428571  0.53846154  1.125       1.11111111 -1.        ]\n",
            " [-3.          1.46153846 -6.5         3.66666667  1.        ]]\n",
            "\t\n",
            "Example 5:\n",
            "Matrix A: [[ 1  1 12 11  2  4]\n",
            " [-1  2  2 -4  1  3]\n",
            " [ 5  7  9 10 -1  2]]\n",
            "Matrix B: [[  1  12   2   3   1   4]\n",
            " [  4 -10  -5   6   1   3]\n",
            " [  7  13   8   9   1   2]]\n",
            "Sum Matrix A and Matrix B:\n",
            "[[ 2 13 14 14  3  8]\n",
            " [ 3 -8 -3  2  2  6]\n",
            " [12 20 17 19  0  4]]\n",
            "Difference of Matrix A and Matrix B:\n",
            "[[  0 -11  10   8   1   0]\n",
            " [ -5  12   7 -10   0   0]\n",
            " [ -2  -6   1   1  -2   0]]\n",
            "Element-wise multiplication of Matrix A and Matrix B:\n",
            "[[  1  12  24  33   2  16]\n",
            " [ -4 -20 -10 -24   1   9]\n",
            " [ 35  91  72  90  -1   4]]\n",
            "Element-wise division of Matrix A and Matrix B:\n",
            "[[ 1.          0.08333333  6.          3.66666667  2.          1.        ]\n",
            " [-0.25       -0.2        -0.4        -0.66666667  1.          1.        ]\n",
            " [ 0.71428571  0.53846154  1.125       1.11111111 -1.          1.        ]]\n"
          ]
        }
      ]
    }
  ]
}