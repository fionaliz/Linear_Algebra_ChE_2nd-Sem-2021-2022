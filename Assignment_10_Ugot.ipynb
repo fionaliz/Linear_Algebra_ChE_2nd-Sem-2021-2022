{
  "nbformat": 4,
  "nbformat_minor": 0,
  "metadata": {
    "kernelspec": {
      "display_name": "Python 3",
      "language": "python",
      "name": "python3"
    },
    "language_info": {
      "codemirror_mode": {
        "name": "ipython",
        "version": 3
      },
      "file_extension": ".py",
      "mimetype": "text/x-python",
      "name": "python",
      "nbconvert_exporter": "python",
      "pygments_lexer": "ipython3",
      "version": "3.8.3"
    },
    "colab": {
      "name": "Assignment 10_Ugot.ipynb",
      "provenance": [],
      "collapsed_sections": [],
      "include_colab_link": true
    }
  },
  "cells": [
    {
      "cell_type": "markdown",
      "metadata": {
        "id": "view-in-github",
        "colab_type": "text"
      },
      "source": [
        "<a href=\"https://colab.research.google.com/github/fionaliz/Linear_Algebra_ChE_2nd-Sem-2021-2022/blob/main/Assignment_10_Ugot.ipynb\" target=\"_parent\"><img src=\"https://colab.research.google.com/assets/colab-badge.svg\" alt=\"Open In Colab\"/></a>"
      ]
    },
    {
      "cell_type": "markdown",
      "metadata": {
        "id": "F7JH-Oc2O9Sw"
      },
      "source": [
        "# Linear Algebra for ECE\n",
        "## Laboratory 10 : Linear Combination and Vector Spaces"
      ]
    },
    {
      "cell_type": "markdown",
      "metadata": {
        "id": "aTacEIfvO9S0"
      },
      "source": [
        "We'll try to depict linear combination using scientific programming now that you have a basic understanding of it."
      ]
    },
    {
      "cell_type": "markdown",
      "metadata": {
        "id": "5Rk-2NPqO9S1"
      },
      "source": [
        "### Objectives\n",
        "At the end of this activity you will be able to:\n",
        "1.Familiarizing therepresenting linear combinations in the 2-dimensional plane.\n",
        "2. In Python, use vector fields to visualize spans.\n",
        "3. Using scientific programming, do vector field operations."
      ]
    },
    {
      "cell_type": "markdown",
      "metadata": {
        "id": "PJYUg0_dO9S1"
      },
      "source": [
        "## Discussion"
      ]
    },
    {
      "cell_type": "code",
      "metadata": {
        "id": "ZQYRaKtkO9S1"
      },
      "source": [
        "import numpy as np\n",
        "import matplotlib.pyplot as plt\n",
        "%matplotlib inline"
      ],
      "execution_count": null,
      "outputs": []
    },
    {
      "cell_type": "markdown",
      "source": [
        ""
      ],
      "metadata": {
        "id": "djkf_9uAJUJf"
      }
    },
    {
      "cell_type": "markdown",
      "metadata": {
        "id": "REOM226CO9S2"
      },
      "source": [
        "## Linear Combination"
      ]
    },
    {
      "cell_type": "markdown",
      "metadata": {
        "id": "mXycshXOO9S3"
      },
      "source": [
        "A linear combination is defined as the addition of a vector's bases/components and its linear scaling."
      ]
    },
    {
      "cell_type": "markdown",
      "metadata": {
        "id": "_-14ifj_O9S3"
      },
      "source": [
        "By charting a sample of real number values for the scalars for the vectors, we will attempt to visualize the vectors and their linear combinations. Let's start with the following vectors:"
      ]
    },
    {
      "cell_type": "markdown",
      "metadata": {
        "id": "A1p9s0DvO9S4"
      },
      "source": [
        "$$S = \\begin{bmatrix} 4\\\\6 \\\\\\end{bmatrix} , V = \\begin{bmatrix} 1\\\\7 \\\\\\end{bmatrix} $$"
      ]
    },
    {
      "cell_type": "code",
      "metadata": {
        "colab": {
          "base_uri": "https://localhost:8080/"
        },
        "id": "V0jYnfAaO9S4",
        "outputId": "c0c24df1-1a5c-4992-fd54-94f2132aaf71"
      },
      "source": [
        "vectS =  np.array([4,5])\n",
        "vectV =  np.array([1,7])\n",
        "vectS"
      ],
      "execution_count": null,
      "outputs": [
        {
          "output_type": "execute_result",
          "data": {
            "text/plain": [
              "array([4, 5])"
            ]
          },
          "metadata": {},
          "execution_count": 4
        }
      ]
    },
    {
      "cell_type": "markdown",
      "metadata": {
        "id": "ZnweVCl3O9S4"
      },
      "source": [
        "#### Span of single vectors"
      ]
    },
    {
      "cell_type": "markdown",
      "metadata": {
        "id": "I1is-SWEO9S5"
      },
      "source": [
        "A line span can be used to represent the span of individual vectors, as mentioned in the lecture. As an example, consider vector $S$."
      ]
    },
    {
      "cell_type": "markdown",
      "metadata": {
        "id": "1TuPwTkVO9S5"
      },
      "source": [
        "$$S = c\\cdot \\begin{bmatrix} 4\\\\8 \\\\\\end{bmatrix} $$"
      ]
    },
    {
      "cell_type": "code",
      "metadata": {
        "colab": {
          "base_uri": "https://localhost:8080/",
          "height": 265
        },
        "id": "ttPQ0Ti4O9S5",
        "outputId": "0f23c5f8-f9a3-4ee2-e21e-a3ebe728c27d"
      },
      "source": [
        "c = np.arange(-11,13,0.35)\n",
        "\n",
        "plt.scatter(c*vectS[0],c*vectS[1])\n",
        "\n",
        "plt.xlim(-11,11)\n",
        "plt.ylim(-11,11)\n",
        "plt.axhline(y=0, color='k')\n",
        "plt.axvline(x=0, color='k')\n",
        "plt.grid()\n",
        "plt.show()"
      ],
      "execution_count": null,
      "outputs": [
        {
          "output_type": "display_data",
          "data": {
            "text/plain": [
              "<Figure size 432x288 with 1 Axes>"
            ],
            "image/png": "[encoded data removed]"
          },
          "metadata": {
            "needs_background": "light"
          }
        }
      ]
    },
    {
      "cell_type": "markdown",
      "metadata": {
        "id": "pf_rVm8FV0Jy"
      },
      "source": [
        "$$S = c\\cdot \\begin{bmatrix} 6\\\\4 \\\\\\end{bmatrix} $$"
      ]
    },
    {
      "cell_type": "code",
      "metadata": {
        "colab": {
          "base_uri": "https://localhost:8080/",
          "height": 269
        },
        "id": "OjoN2KdzV5s2",
        "outputId": "078f2e7a-4efa-4866-b95b-65a4309590e2"
      },
      "source": [
        "S = np.array ([6,4])\n",
        "c = np.arange(-6,6,0.35)\n",
        "\n",
        "plt.scatter(S[0],S[1])\n",
        "\n",
        "plt.xlim(-20,20)\n",
        "plt.ylim(-20,20)\n",
        "plt.axhline(y=0, color='k')\n",
        "plt.axvline(x=0, color='k')\n",
        "plt.grid()\n",
        "plt.show()"
      ],
      "execution_count": null,
      "outputs": [
        {
          "output_type": "display_data",
          "data": {
            "text/plain": [
              "<Figure size 432x288 with 1 Axes>"
            ],
            "image/png": "[encoded data removed]"
          },
          "metadata": {
            "needs_background": "light"
          }
        }
      ]
    },
    {
      "cell_type": "markdown",
      "metadata": {
        "id": "BXNrnuFLO9S6"
      },
      "source": [
        "### Span of a linear combination of vectors"
      ]
    },
    {
      "cell_type": "markdown",
      "metadata": {
        "id": "5gYQM__tO9S6"
      },
      "source": [
        "So, what if we wanted to plot the span of a linear vector combination? On a two-dimensional coordinate system, we can represent it as a plane. Consider the following linear combination's span:"
      ]
    },
    {
      "cell_type": "markdown",
      "metadata": {
        "id": "7Tc0vPm-O9S6"
      },
      "source": [
        "$$S = \\begin{Bmatrix} c_1 \\cdot\\begin{bmatrix} 4\\\\3 \\\\\\end{bmatrix}, \n",
        "c_2 \\cdot \\begin{bmatrix} 8\\\\-5 \\\\\\end{bmatrix}\\end\n",
        "{Bmatrix} $$"
      ]
    },
    {
      "cell_type": "code",
      "metadata": {
        "colab": {
          "base_uri": "https://localhost:8080/",
          "height": 265
        },
        "id": "Z8UT7UNUO9S6",
        "outputId": "7ebef683-972a-44a3-f6da-4fab5b71920c"
      },
      "source": [
        "vectA = np.array([4,3])\n",
        "vectB = np.array([8,-5])\n",
        "\n",
        "R = np.arange(-20,20,3)\n",
        "\n",
        "c1, c2 = np.meshgrid(R,R)\n",
        "\n",
        "vectR = vectA + vectB\n",
        "spanRx = c1*vectA[0] + c2*vectB[0]\n",
        "spanRy = c1*vectA[1] + c2*vectB[1]\n",
        "plt.scatter(R*vectA[0],R*vectA[1])\n",
        "plt.scatter(R*vectB[0],R*vectB[1])\n",
        "plt.scatter(spanRx,spanRy, s=5, alpha=0.75)\n",
        "\n",
        "plt.axhline(y=0, color='k')\n",
        "plt.axvline(x=0, color='k')\n",
        "plt.grid()\n",
        "plt.show()"
      ],
      "execution_count": null,
      "outputs": [
        {
          "output_type": "display_data",
          "data": {
            "text/plain": [
              "<Figure size 432x288 with 1 Axes>"
            ],
            "image/png": "[encoded data removed]"
          },
          "metadata": {
            "needs_background": "light"
          }
        }
      ]
    },
    {
      "cell_type": "code",
      "metadata": {
        "colab": {
          "base_uri": "https://localhost:8080/",
          "height": 266
        },
        "id": "REIskplJad3G",
        "outputId": "327f763e-6a12-4cc4-ce49-a30f72b31d40"
      },
      "source": [
        "vectT = np.array([8,-4])\n",
        "vectR = np.array([-5,-6])\n",
        "\n",
        "R = np.arange(-14,16,1)\n",
        "\n",
        "c1, c2 = np.meshgrid(R,R)\n",
        "\n",
        "vectR = vectT + vectR\n",
        "spanRx = c1*vectT[0] + c2*vectR[0]\n",
        "spanRy = c1*vectT[1] + c2*vectR[1]\n",
        "plt.scatter(R*vectT[0],R*vectT[1])\n",
        "plt.scatter(R*vectR[0],R*vectR[1])\n",
        "#plt.scatter(spanRx,spanRy, s=5, alpha=0.75)\n",
        "\n",
        "plt.axhline(y=0, color='k')\n",
        "plt.axvline(x=0, color='k')\n",
        "plt.grid()\n",
        "plt.show()"
      ],
      "execution_count": null,
      "outputs": [
        {
          "output_type": "display_data",
          "data": {
            "text/plain": [
              "<Figure size 432x288 with 1 Axes>"
            ],
            "image/png": "[encoded data removed]"
          },
          "metadata": {
            "needs_background": "light"
          }
        }
      ]
    },
    {
      "cell_type": "markdown",
      "metadata": {
        "id": "N9nhJvXFO9S7"
      },
      "source": [
        "Take note that if vectors are seen to be as a 2-dimensional span we can say it has a Rank of 2 or $\\mathbb{R}^2$. But if the span of the linear combination of vectors are seen to be like a line, they are said to be <b> linearly dependent </b> and they have a rank of 1 or $\\mathbb{R}^1$."
      ]
    },
    {
      "cell_type": "markdown",
      "metadata": {
        "id": "2OVPBMoSO9S7"
      },
      "source": [
        "# Activity"
      ]
    },
    {
      "cell_type": "markdown",
      "metadata": {
        "id": "iT7GLOf6O9S7"
      },
      "source": [
        "### Task 1"
      ]
    },
    {
      "cell_type": "markdown",
      "metadata": {
        "id": "8Usvs9WoO9S7"
      },
      "source": [
        "## LaTeX Format Equation\n",
        "\n",
        "\n"
      ]
    },
    {
      "cell_type": "markdown",
      "metadata": {
        "id": "peZ6TepdO9S7"
      },
      "source": [
        "## LaTeX Form:\n",
        "\n",
        "$$A = \\begin{Bmatrix} A \\cdot\\begin{bmatrix} 6\\\\2 \\\\\\end{bmatrix}, \n",
        "B \\cdot \\begin{bmatrix} 8\\\\18 \\\\\\end{bmatrix}\\end{Bmatrix} $$\n",
        "$$\n",
        "X = \\begin{array}\\\n",
        "        6\\hat{x} + 2\\hat{y} \\\\ \n",
        "    \\end{array}\n",
        "$$\n",
        "$$\n",
        "Y = \\begin{array}\\\n",
        "        8\\hat{x} + 18\\hat{y} \\\\ \n",
        "    \\end{array}\n",
        "$$"
      ]
    },
    {
      "cell_type": "code",
      "metadata": {
        "id": "0zDr8Wt0O9S8",
        "colab": {
          "base_uri": "https://localhost:8080/",
          "height": 265
        },
        "outputId": "fe8d5b41-04ea-4d6a-ef4e-eab3f351327e"
      },
      "source": [
        "X = np.array([6,2])\n",
        "Y = np.array([8,18])\n",
        "#Y= np.array([-1,-3])\n",
        "\n",
        "Z = np.arange(-14,14,1)\n",
        "\n",
        "A, B = np.meshgrid(Z,Z)\n",
        "                    \n",
        "vectZ = X + Y\n",
        "spanZx = A*X[0] + B*Y[0]\n",
        "spanZy = A*X[1] + B*Y[1]\n",
        "plt.scatter(Z*X[0],Z*Y[1])\n",
        "plt.scatter(Z*X[0],Z*Y[1])\n",
        "plt.scatter(spanZx,spanZy, s=0.5, alpha=0.5)\n",
        "plt.axhline(y=0, color='k')\n",
        "plt.axvline(x=0, color='k')\n",
        "plt.grid()\n",
        "plt.show()"
      ],
      "execution_count": null,
      "outputs": [
        {
          "output_type": "display_data",
          "data": {
            "text/plain": [
              "<Figure size 432x288 with 1 Axes>"
            ],
            "image/png": "[encoded data removed]"
          },
          "metadata": {
            "needs_background": "light"
          }
        }
      ]
    },
    {
      "cell_type": "markdown",
      "metadata": {
        "id": "FyEYibVfO9S9"
      },
      "source": [
        "## Conclusion guide"
      ]
    },
    {
      "cell_type": "markdown",
      "metadata": {
        "id": "smmACaxLO9S9"
      },
      "source": [
        "For your conclusion synthesize the concept and application of the laboratory. Briefly discuss what you have learn and achieved in this activity. At the end of your conclusion try to answer the question : \"How can you apply the concept of linear combination in engineering or real-life situations?\"."
      ]
    }
  ]
}